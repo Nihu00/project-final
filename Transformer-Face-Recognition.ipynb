{
  "cells": [
    {
      "cell_type": "markdown",
      "metadata": {
        "id": "A4NdJRd3L0dY"
      },
      "source": [
        "## 1. Introduction\n"
      ]
    },
    {
      "cell_type": "markdown",
      "metadata": {
        "id": "BGWyDb5myIy6"
      },
      "source": [
        "ViT Face Emotion Recognition is a project based on the use of transformers for fcial recognition. Our project demonstrated that transformers could recognize faces. Firstly, we need to resize images using a 224x224 total dimension because transformers have the same linear size for the input and the patching phase needs the same amount of data."
      ]
    },
    {
      "cell_type": "markdown",
      "metadata": {
        "id": "-s6FVgkOL4BI"
      },
      "source": [
        "## 2. Data Retrieval"
      ]
    },
    {
      "cell_type": "markdown",
      "metadata": {
        "id": "h_g6Johu3PIz"
      },
      "source": [
        "### 2.1 Import Libraries and Utility class"
      ]
    },
    {
      "cell_type": "code",
      "execution_count": null,
      "metadata": {
        "colab": {
          "base_uri": "https://localhost:8080/"
        },
        "id": "TBLS3rKGcIUm",
        "outputId": "47994194-8ebc-48b8-e331-db20cec58480"
      },
      "outputs": [
        {
          "output_type": "stream",
          "name": "stdout",
          "text": [
            "Requirement already satisfied: Pillow in /usr/local/lib/python3.7/dist-packages (7.1.2)\n",
            "Requirement already satisfied: pandas in /usr/local/lib/python3.7/dist-packages (1.3.5)\n",
            "Requirement already satisfied: pytz>=2017.3 in /usr/local/lib/python3.7/dist-packages (from pandas) (2022.1)\n",
            "Requirement already satisfied: numpy>=1.17.3 in /usr/local/lib/python3.7/dist-packages (from pandas) (1.21.6)\n",
            "Requirement already satisfied: python-dateutil>=2.7.3 in /usr/local/lib/python3.7/dist-packages (from pandas) (2.8.2)\n",
            "Requirement already satisfied: six>=1.5 in /usr/local/lib/python3.7/dist-packages (from python-dateutil>=2.7.3->pandas) (1.15.0)\n"
          ]
        }
      ],
      "source": [
        "!pip3 install Pillow\n",
        "!pip install pandas"
      ]
    },
    {
      "cell_type": "code",
      "execution_count": null,
      "metadata": {
        "id": "66hzxAClAFAY"
      },
      "outputs": [],
      "source": [
        "import pandas as pd\n",
        "import matplotlib.pyplot as plt\n",
        "import numpy as np\n",
        "%matplotlib inline\n",
        "import seaborn as sns\n",
        "import os, cv2, glob, imageio, random"
      ]
    },
    {
      "cell_type": "code",
      "execution_count": null,
      "metadata": {
        "id": "AQ-jkxorUiI-"
      },
      "outputs": [],
      "source": [
        "from PIL import Image"
      ]
    },
    {
      "cell_type": "code",
      "execution_count": null,
      "metadata": {
        "colab": {
          "base_uri": "https://localhost:8080/"
        },
        "id": "0WafVw77sp2v",
        "outputId": "8dcacac1-9a18-4c34-a1ce-35e4d324a204"
      },
      "outputs": [
        {
          "output_type": "stream",
          "name": "stdout",
          "text": [
            "Drive not mounted, so nothing to flush and unmount.\n",
            "Mounted at /content/drive\n"
          ]
        }
      ],
      "source": [
        "from google.colab import drive\n",
        "drive.flush_and_unmount()\n",
        "drive.mount('/content/drive')"
      ]
    },
    {
      "cell_type": "markdown",
      "metadata": {
        "id": "FYHpj1FEDFak"
      },
      "source": [
        "The following snippet of code describes essential functions used for the integration; ImageWorker is a class that we can use to convert the size format of an image (to make them in a standard dimension), change the extension of an image and can evaluate the number of images per class in each of exciting datasets."
      ]
    },
    {
      "cell_type": "code",
      "execution_count": null,
      "metadata": {
        "id": "mMiGrpYXLFNP"
      },
      "outputs": [],
      "source": [
        "class ImageWorker():\n",
        "\n",
        "\n",
        "    def __init__(self) -> None:\n",
        "         pass\n",
        "\n",
        "\n",
        "    def format_converter(self, path, format_img, source_type, dest_path):\n",
        "        count = 0\n",
        "        for file in glob.glob(path + \"/*.\" + format_img):\n",
        "            img = cv2.imread(file, cv2.IMREAD_UNCHANGED)\n",
        "            resized = cv2.resize(img, (224,224), interpolation=cv2.INTER_CUBIC)\n",
        "            cv2.imwrite(dest_path + \"resized_on_\" + source_type + \"_\" + str(count) + \".\"+ format_img, resized)\n",
        "            count += 1\n",
        "\n",
        "\n",
        "\n",
        "    def list_classes(self, dataset_path):\n",
        "        langs = []\n",
        "        for el in glob.glob(dataset_path):\n",
        "          langs.append(os.path.basename(str(el)))\n",
        "        return langs\n",
        "\n",
        "\n",
        "\n",
        "    def counter_samples_on_class(self, dataset_path):\n",
        "      classes = self.list_classes(dataset_path)\n",
        "      counter_classes = {}\n",
        "      if dataset_path[len(dataset_path) - 1] == \"/\":\n",
        "          path = dataset_path\n",
        "      if dataset_path[len(dataset_path) - 1] == \"*\":\n",
        "          path = dataset_path[0:len(dataset_path) - 2] + \"/\"\n",
        "      else:\n",
        "          path = dataset_path + \"/\"\n",
        "      for class_ in classes:\n",
        "        counter = 0\n",
        "        for file in glob.glob(path + class_ + \"/*\"):\n",
        "            counter += 1\n",
        "        counter_classes[class_] = counter\n",
        "      return counter_classes\n",
        "\n",
        "\n",
        "\n",
        "    def counter_samples(self, dataset_path):\n",
        "     a = self.counter_samples_on_class(dataset_path)\n",
        "     counter = 0\n",
        "     for el in a.keys():\n",
        "       counter += a[el]\n",
        "     return counter\n",
        "\n",
        "\n",
        "\n",
        "    def extension_converter(self, path, format_source, format_result, dest_path):   \n",
        "      for file in glob.glob(path + \"/*.\" + format_source):\n",
        "          im1 = Image.open(file)\n",
        "          im1.save(file[0:len(file)-4] + \".\" + format_result)\n",
        "          os.remove(file)\n",
        "\n",
        "\n",
        "\n",
        "    def counter_file_extension(self, path, format):\n",
        "      counter = 0\n",
        "      for file in glob.glob(path + \"/*.\" + format):\n",
        "          counter += 1\n",
        "      return counter\n",
        "      \n",
        "\n",
        "      \n",
        "    def navigate_path(self, path):    \n",
        "        count = 0\n",
        "        for dir in os.listdir(path):\n",
        "            if os.path.isfile(os.path.join(path, dir)):\n",
        "                count += 1\n",
        "        return count\n",
        "\n",
        "iw = ImageWorker()"
      ]
    },
    {
      "cell_type": "code",
      "execution_count": null,
      "metadata": {
        "id": "NfjxfLlujLZi"
      },
      "outputs": [],
      "source": [
        "# Other utility functions related to properties of images\n",
        "\n",
        "def mean(values):\n",
        "  if len(values) <= 0:\n",
        "    return 0\n",
        "  else:\n",
        "    sum = 0\n",
        "    for el in values:\n",
        "      sum += el\n",
        "    return int(sum / len(values))\n",
        "\n",
        "\n",
        "\n",
        "def min(val):\n",
        "  min = sys.maxsize\n",
        "  for el in val.keys():\n",
        "    if val[el] < min:\n",
        "      min = val[el]\n",
        "  return min\n",
        "\n",
        "\n",
        "def max(val):\n",
        "  max = sys.minsize\n",
        "  for el in val.keys():\n",
        "    if val[el] > max:\n",
        "      max = val[el]\n",
        "  return max\n",
        "\n",
        "\n",
        "def plot_dataset(dataset_path, title=\"\"):\n",
        "  classes = iw.list_classes(dataset_path)\n",
        "  l_classes = iw.counter_samples_on_class(dataset_path)\n",
        "\n",
        "  fig = plt.figure()\n",
        "  ax = fig.add_axes([0,0,1,1,])\n",
        "  x = [l_classes[class_] for class_ in classes]\n",
        "  y = [class_ for class_ in classes]\n",
        "  \n",
        "  colors = []\n",
        "  x_cap = mean(x)\n",
        "\n",
        "  # colors identify when the elements are greater or lesser than the mean values\n",
        "  for el in x:\n",
        "    if el < x_cap:\n",
        "      colors.append(\"#BC3434\")\n",
        "    else:\n",
        "      colors.append(\"#49A131\")\n",
        "  ax.bar(y, x, color=colors)\n",
        "  plt.title(title)\n",
        "  plt.show()\n",
        "\n",
        "\n",
        "\n",
        "def channels_distribution(dataset_path):\n",
        "  chan_size = [0 for i in range(0, 5)]\n",
        "  for path in glob.glob(dataset_path):\n",
        "    for el in os.listdir(path):\n",
        "       pic = imageio.imread(path + \"/\" + el)\n",
        "       chan_size[pic.ndim] += 1\n",
        "  return chan_size\n"
      ]
    },
    {
      "cell_type": "code",
      "execution_count": null,
      "metadata": {
        "id": "rGh2iu6r8SRJ"
      },
      "outputs": [],
      "source": [
        "!mkdir /content/drive/MyDrive/Datasets/AVFER/\n",
        "!mkdir /content/drive/MyDrive/Datasets/AVFER/train\n",
        "!mkdir /content/drive/MyDrive/Datasets/AVFER/val\n",
        "!mkdir /content/drive/MyDrive/Datasets/AVFER/test"
      ]
    },
    {
      "cell_type": "code",
      "execution_count": null,
      "metadata": {
        "id": "z8bVUpCK8VJh"
      },
      "outputs": [],
      "source": [
        "base_dir = \"/content/drive/MyDrive/Datasets/AVFER/\"\n",
        "x = \"/content/drive/MyDrive/Datasets/AffectNet/train_class/\"\n",
        "subfolders = [el for el in os.listdir(base_dir)]\n",
        "classes = [cl for cl in os.listdir(x)]\n",
        "\n",
        "\n",
        "for cl in classes:\n",
        "  for folder in subfolders:\n",
        "    os.mkdir(base_dir  + folder + \"/\" + cl)"
      ]
    },
    {
      "cell_type": "code",
      "execution_count": null,
      "metadata": {
        "id": "Fhtjm9iex6h8"
      },
      "outputs": [],
      "source": [
        "num_classes = 7\n",
        "\n",
        "data_train_fer = '/content/drive/My Drive/Datasets/FER-2013/train/*'\n",
        "data_val_fer = '/content/drive/My Drive/Datasets/FER-2013/val/*'\n",
        "\n",
        "fer_classes_t = iw.list_classes(data_train_fer)\n",
        "fer_classes_v = iw.list_classes(data_val_fer)"
      ]
    },
    {
      "cell_type": "code",
      "execution_count": null,
      "metadata": {
        "id": "Fl-2hILTiaX3"
      },
      "outputs": [],
      "source": [
        "fer_train_tot = iw.counter_samples(data_train_fer)\n",
        "fer_val_tot = iw.counter_samples(data_val_fer)\n",
        "fer_tot = fer_train_tot + fer_val_tot\n",
        "print(\"Total no. of images in FER: \", fer_tot)\n",
        "print(\"Total no. of train images in FER:\", fer_train_tot)\n",
        "print(\"Total no. of val images in FER:\", fer_val_tot)"
      ]
    },
    {
      "cell_type": "markdown",
      "metadata": {
        "id": "Dr2Es-uWHM79"
      },
      "source": [
        "This dataset is pretty good in terms of data views, with some variance in the patterns given by a significant variability of facial expressions for each category. The image size is 48x48; we need to resize it to 224x224 size and put it together in the same folder as the other datasets for data integration. We will use our ImageWorker object to do that."
      ]
    },
    {
      "cell_type": "code",
      "execution_count": null,
      "metadata": {
        "colab": {
          "base_uri": "https://localhost:8080/",
          "height": 338
        },
        "id": "81zt2X0ooXqx",
        "outputId": "282733be-92e9-4ba6-fc5c-c6be9f1d6fbb"
      },
      "outputs": [
        {
          "data": {
            "text/plain": [
              "<matplotlib.image.AxesImage at 0x7f1a6401fd50>"
            ]
          },
          "execution_count": 16,
          "metadata": {},
          "output_type": "execute_result"
        },
        {
          "data": {
            "image/png": "[encoded data removed]",
            "text/plain": [
              "<Figure size 360x360 with 1 Axes>"
            ]
          },
          "metadata": {},
          "output_type": "display_data"
        }
      ],
      "source": [
        "sample_img = '/content/drive/MyDrive/Datasets/FER-2013/val/anger/PrivateTest_10131363.jpg'\n",
        "pic = imageio.imread(sample_img)\n",
        "plt.figure(figsize = (5,5))\n",
        "plt.imshow(pic)"
      ]
    },
    {
      "cell_type": "code",
      "execution_count": null,
      "metadata": {
        "colab": {
          "base_uri": "https://localhost:8080/"
        },
        "id": "ucfJarLQq0q8",
        "outputId": "d2c7b3aa-065b-4681-ab52-e6c73b686694"
      },
      "outputs": [
        {
          "name": "stdout",
          "output_type": "stream",
          "text": [
            "Type of the image :  <class 'imageio.core.util.Array'>\n",
            "Shape of the image : (48, 48)\n",
            "Dimension of Image: 2\n",
            "Image size: 2304\n",
            "Maximum channel value in this image: 229\n",
            "Minimum channel value in this image: 3\n"
          ]
        }
      ],
      "source": [
        "print('Type of the image : ' , type(pic)) \n",
        "print('Shape of the image : {}'.format(pic.shape)) \n",
        "print('Dimension of Image: {}'.format(pic.ndim))\n",
        "print('Image size: {}'.format(pic.size)) \n",
        "print('Maximum channel value in this image: {}'.format(pic.max())) \n",
        "print('Minimum channel value in this image: {}'.format(pic.min()))"
      ]
    },
    {
      "cell_type": "code",
      "execution_count": null,
      "metadata": {
        "colab": {
          "base_uri": "https://localhost:8080/"
        },
        "id": "bzHCjdfMrsFn",
        "outputId": "4a120c6b-8b94-4493-8c69-cc791c67f64d"
      },
      "outputs": [
        {
          "name": "stdout",
          "output_type": "stream",
          "text": [
            "Total channels distribution : [0, 0, 35953, 0, 0]\n"
          ]
        }
      ],
      "source": [
        "train_ch = channels_distribution(data_train_fer)\n",
        "val_ch = channels_distribution(data_val_fer)\n",
        "\n",
        "if len(train_ch) == len(val_ch):\n",
        "  tot_ch = [0 for i in range(len(train_ch))]\n",
        "  for i in range(0, len(train_ch)):\n",
        "     tot_ch[i] = train_ch[i] + val_ch[i]\n",
        "\n",
        "print('Total channels distribution :', tot_ch)"
      ]
    },
    {
      "cell_type": "code",
      "execution_count": null,
      "metadata": {
        "id": "edGA924VuAuh"
      },
      "outputs": [],
      "source": [
        "# Resize FER-2013 training images in 224x224 and put the result in the final dataset\n",
        "\n",
        "format_fer = \"jpg\"\n",
        "source_type = \"fer_2013\"\n",
        "\n",
        "destinations = [\"/content/drive/MyDrive/Datasets/AVFER/train/\" + class_ + \"/\" for class_ in fer_classes_t]\n",
        "sources = [\"/content/drive/MyDrive/Datasets/FER-2013/train/\" + class_ for class_ in fer_classes_t]\n",
        "\n",
        "for i in range(0,len(destinations)):\n",
        "  iw.format_converter(sources[i], format_fer, source_type, destinations[i])"
      ]
    },
    {
      "cell_type": "code",
      "execution_count": null,
      "metadata": {
        "id": "sl-HzutysIST"
      },
      "outputs": [],
      "source": [
        "# Resize FER-2013 validation images in 224x224 and put the result in the final dataset\n",
        "\n",
        "sources = [\"/content/drive/MyDrive/Datasets/FER-2013/val/\" + class_ + \"/\" for class_ in fer_classes_t]\n",
        "source_type = \"fer_2013_test\"\n",
        "\n",
        "for i in range(0, len(destinations)):\n",
        "  iw.format_converter(sources[i], format_fer, source_type, destinations[i])"
      ]
    },
    {
      "cell_type": "code",
      "execution_count": null,
      "metadata": {
        "id": "hU4DwQwKPPV5"
      },
      "outputs": [],
      "source": [
        "num_classes = 7\n",
        "\n",
        "data_dir_ck = '/content/drive/My Drive/Datasets/CK+48/*'\n",
        "ck_classes_t = iw.list_classes(data_dir_ck)\n",
        "ck_classes_t"
      ]
    },
    {
      "cell_type": "code",
      "execution_count": null,
      "metadata": {
        "id": "gCMeIT-yo9e_"
      },
      "outputs": [],
      "source": [
        "ck_tot = iw.counter_samples(data_dir_ck)\n",
        "print(\"Total no. of images in CK+: \", ck_tot)"
      ]
    },
    {
      "cell_type": "markdown",
      "metadata": {
        "id": "Wq7coAf8QKM6"
      },
      "source": [
        "The image size is 48x48. To retrieve some data in a standard format, we will try to resize them, maintaining pixels patterns for data processing. The new size is 224x224, which should maintain in a good way features of the samples. We will save the resized images in a new folder on the drive."
      ]
    },
    {
      "cell_type": "code",
      "execution_count": null,
      "metadata": {
        "colab": {
          "base_uri": "https://localhost:8080/",
          "height": 338
        },
        "id": "APLF7S9vtLw3",
        "outputId": "8e4bad4b-f516-49c0-a54b-dd63d4a28314"
      },
      "outputs": [
        {
          "data": {
            "text/plain": [
              "<matplotlib.image.AxesImage at 0x7f1a6523c3d0>"
            ]
          },
          "execution_count": 25,
          "metadata": {},
          "output_type": "execute_result"
        },
        {
          "data": {
            "image/png": "[encoded data removed]",
            "text/plain": [
              "<Figure size 360x360 with 1 Axes>"
            ]
          },
          "metadata": {},
          "output_type": "display_data"
        }
      ],
      "source": [
        "sample_img = '/content/drive/MyDrive/Datasets/CK+48/anger/Copia di S010_004_00000017.png'\n",
        "pic = imageio.imread(sample_img)\n",
        "plt.figure(figsize = (5,5))\n",
        "plt.imshow(pic)"
      ]
    },
    {
      "cell_type": "code",
      "execution_count": null,
      "metadata": {
        "colab": {
          "base_uri": "https://localhost:8080/"
        },
        "id": "1DBvXBfnCFHx",
        "outputId": "e49c7c0e-1b87-4d14-c2a7-d22260fa37f0"
      },
      "outputs": [
        {
          "name": "stdout",
          "output_type": "stream",
          "text": [
            "Type of the image :  <class 'imageio.core.util.Array'>\n",
            "Shape of the image : (48, 48)\n",
            "Dimension of Image: 2\n",
            "Image size: 2304\n",
            "Maximum channel value in this image: 255\n",
            "Minimum channel value in this image: 0\n"
          ]
        }
      ],
      "source": [
        "print('Type of the image : ' , type(pic)) \n",
        "print('Shape of the image : {}'.format(pic.shape)) \n",
        "print('Dimension of Image: {}'.format(pic.ndim))\n",
        "print('Image size: {}'.format(pic.size)) \n",
        "print('Maximum channel value in this image: {}'.format(pic.max())) \n",
        "print('Minimum channel value in this image: {}'.format(pic.min()))"
      ]
    },
    {
      "cell_type": "code",
      "execution_count": null,
      "metadata": {
        "colab": {
          "base_uri": "https://localhost:8080/"
        },
        "id": "iQRgFmsNCgyA",
        "outputId": "0b3da4d1-bc8d-4bfd-92be-43b419b957c2"
      },
      "outputs": [
        {
          "name": "stdout",
          "output_type": "stream",
          "text": [
            "Total channels distribution : [0, 0, 986, 0, 0]\n"
          ]
        }
      ],
      "source": [
        "print('Total channels distribution :', channels_distribution(data_dir_ck))"
      ]
    },
    {
      "cell_type": "code",
      "execution_count": null,
      "metadata": {
        "id": "IVoIeu7Wsm26"
      },
      "outputs": [],
      "source": [
        "# Resize images and put the result in the final dataset\n",
        "\n",
        "format_ck = \"png\"\n",
        "source_type = \"ck_plus\"\n",
        "\n",
        "destinations = [\"/content/drive/MyDrive/Datasets/AVFER/train/\" + class_ + \"/\" for class_ in ck_classes_t]\n",
        "sources = [\"/content/drive/MyDrive/Datasets/CK+48/\" + class_ for class_ in ck_classes_t]\n",
        "\n",
        "for i in range(0,len(destinations)):\n",
        "  iw.format_converter(sources[i], format_ck, source_type, destinations[i])"
      ]
    },
    {
      "cell_type": "code",
      "execution_count": null,
      "metadata": {
        "id": "cEhQzKQb53HT"
      },
      "outputs": [],
      "source": [
        "num_classes = 8\n",
        "\n",
        "data_train_af = '/content/drive/My Drive/Datasets/AffectNet/train_class/*'\n",
        "data_val_af = '/content/drive/My Drive/Datasets/AffectNet/val_class/*'\n",
        "\n",
        "af_classes_t = iw.list_classes(data_train_af)\n",
        "af_classes_v = iw.list_classes(data_val_af)"
      ]
    },
    {
      "cell_type": "code",
      "execution_count": null,
      "metadata": {
        "colab": {
          "base_uri": "https://localhost:8080/"
        },
        "id": "Bm-sxiIHA7Eq",
        "outputId": "a178cf00-a57b-490b-a3a1-577ceb211301"
      },
      "outputs": [
        {
          "name": "stdout",
          "output_type": "stream",
          "text": [
            "Total no. of images in AffectNet:  41591\n",
            "Total no. of train images in AffectNet: 37591\n",
            "Total no. of val images in AffectNet: 4000\n"
          ]
        }
      ],
      "source": [
        "af_train_tot = iw.counter_samples(data_train_af)\n",
        "af_val_tot = iw.counter_samples(data_val_af)\n",
        "af_tot = af_train_tot + af_val_tot\n",
        "print(\"Total no. of images in AffectNet: \", af_tot)\n",
        "print(\"Total no. of train images in AffectNet:\", af_train_tot)\n",
        "print(\"Total no. of val images in AffectNet:\", af_val_tot)"
      ]
    },
    {
      "cell_type": "code",
      "execution_count": null,
      "metadata": {
        "colab": {
          "base_uri": "https://localhost:8080/",
          "height": 341
        },
        "id": "pt602gDu6Zzt",
        "outputId": "22314b05-ce66-4f8b-9541-41f9c433de8d"
      },
      "outputs": [
        {
          "data": {
            "text/plain": [
              "<matplotlib.image.AxesImage at 0x7f1a65644f50>"
            ]
          },
          "execution_count": 36,
          "metadata": {},
          "output_type": "execute_result"
        },
        {
          "data": {
            "image/png": "[encoded data removed]",
            "text/plain": [
              "<Figure size 360x360 with 1 Axes>"
            ]
          },
          "metadata": {},
          "output_type": "display_data"
        }
      ],
      "source": [
        "sample_affectnet = '/content/drive/MyDrive/Datasets/AffectNet/train_class/anger/Copia di image0000006.jpg'\n",
        "pic = imageio.imread(sample_affectnet)\n",
        "plt.figure(figsize = (5,5))\n",
        "plt.imshow(pic)"
      ]
    },
    {
      "cell_type": "code",
      "execution_count": null,
      "metadata": {
        "colab": {
          "base_uri": "https://localhost:8080/"
        },
        "id": "-tYqEZPnJo8h",
        "outputId": "5063df9f-5532-489f-943d-0d6ba1ebaf4e"
      },
      "outputs": [
        {
          "name": "stdout",
          "output_type": "stream",
          "text": [
            "Type of the image :  <class 'imageio.core.util.Array'>\n",
            "Shape of the image : (773, 773, 3)\n",
            "Image Hight 773\n",
            "Image Width 773\n",
            "Dimension of Image 3\n"
          ]
        }
      ],
      "source": [
        "print('Type of the image : ' , type(pic)) \n",
        "print('Shape of the image : {}'.format(pic.shape)) \n",
        "print('Image Hight {}'.format(pic.shape[0])) \n",
        "print('Image Width {}'.format(pic.shape[1])) \n",
        "print('Dimension of Image {}'.format(pic.ndim))"
      ]
    },
    {
      "cell_type": "code",
      "execution_count": null,
      "metadata": {
        "colab": {
          "base_uri": "https://localhost:8080/"
        },
        "id": "jq2TDc4eJxiG",
        "outputId": "a36b13c3-a489-490d-e961-c9e61c9da9d6"
      },
      "outputs": [
        {
          "name": "stdout",
          "output_type": "stream",
          "text": [
            "Image size 1792587\n",
            "Maximum RGB value in this image 255\n",
            "Minimum RGB value in this image 0\n"
          ]
        }
      ],
      "source": [
        "print('Image size {}'.format(pic.size)) \n",
        "print('Maximum RGB value in this image {}'.format(pic.max())) \n",
        "print('Minimum RGB value in this image {}'.format(pic.min()))"
      ]
    },
    {
      "cell_type": "markdown",
      "metadata": {
        "id": "f8LQ_V3DM9SM"
      },
      "source": [
        "Check values of a center pixel of the image, we will obtains values related to each RGB channels"
      ]
    },
    {
      "cell_type": "code",
      "execution_count": null,
      "metadata": {
        "colab": {
          "base_uri": "https://localhost:8080/"
        },
        "id": "x-1UoVbDKBzL",
        "outputId": "814af6d1-e278-4a14-c223-322106114352"
      },
      "outputs": [
        {
          "name": "stdout",
          "output_type": "stream",
          "text": [
            "Value of only R channel 224\n",
            "Value of only G channel 196\n",
            "Value of only B channel 184\n"
          ]
        }
      ],
      "source": [
        "print('Value of only R channel {}'.format(pic[387, 387, 0])) \n",
        "print('Value of only G channel {}'.format(pic[387, 387, 1])) \n",
        "print('Value of only B channel {}'.format(pic[387, 387, 2]))"
      ]
    },
    {
      "cell_type": "code",
      "execution_count": null,
      "metadata": {
        "id": "dO5eT0B0OYJg"
      },
      "outputs": [],
      "source": [
        "# checking possible sizes of the matrix of pixels \n",
        "sizes = {}\n",
        "for subfolder in glob.glob(\"/content/drive/MyDrive/Datasets/AffectNet/*\"):\n",
        "  for cl in glob.glob(subfolder + \"/*\"):\n",
        "    for fl in glob.glob(cl + \"/*\"):\n",
        "      img_pic = imageio.imread(fl)\n",
        "      pixels = img_pic.shape[0] * img_pic.shape[1]\n",
        "      sizes[pixels+\"\"] += 1\n",
        "\n",
        "for key in sizes.keys():\n",
        "  print('Images with {} pixels are: {}'.format(key, sizes[key]))\n"
      ]
    },
    {
      "cell_type": "code",
      "execution_count": null,
      "metadata": {
        "colab": {
          "base_uri": "https://localhost:8080/"
        },
        "id": "Rzslm3myP1x-",
        "outputId": "6e164129-42d1-4d0e-c6dd-c198e8702d1c"
      },
      "outputs": [
        {
          "name": "stdout",
          "output_type": "stream",
          "text": [
            "Total channels distribution : [0, 0, 0, 41591, 0]\n"
          ]
        }
      ],
      "source": [
        "train_ch = channels_distribution(data_train_af)\n",
        "val_ch = channels_distribution(data_val_af)\n",
        "\n",
        "if len(train_ch) == len(val_ch):\n",
        "  tot_ch = [0 for i in range(len(train_ch))]\n",
        "  for i in range(0, len(train_ch)):\n",
        "     tot_ch[i] = train_ch[i] + val_ch[i]\n",
        "\n",
        "print('Total channels distribution :', tot_ch)"
      ]
    },
    {
      "cell_type": "code",
      "execution_count": null,
      "metadata": {
        "id": "yZ1Q2a4en_1d"
      },
      "outputs": [],
      "source": [
        "# Format of the image in the AffectNet\n",
        "format_affectnet = \"jpg\"\n",
        "source_type = \"affect_net\"\n",
        "\n",
        "# We pass the AffectNet dataset in the validation set to balance it in the validation and testing subset\n",
        "# Given a size bigger than CK+48 and FER-2013, we can use only a part in training and mantains the \n",
        "# rest in the testing and validation (only a small part related to the training set)\n",
        "destinations = [\"/content/drive/MyDrive/Datasets/AVFER/val/\" + class_ + \"/\" for class_ in af_classes_t]\n",
        "sources = [\"/content/drive/MyDrive/Datasets/AffectNet/train_class/\" + class_ + \"/\" for class_ in af_classes_t]\n",
        "\n",
        "\n",
        "for i in range(0,len(destinations)):\n",
        "  iw.format_converter(sources[i], format_affectnet, source_type, destinations[i])"
      ]
    },
    {
      "cell_type": "code",
      "execution_count": null,
      "metadata": {
        "id": "dJNASW5T7BfO"
      },
      "outputs": [],
      "source": [
        "source_type = \"affectnet_2\"\n",
        "\n",
        "destinations = [\"/content/drive/MyDrive/Datasets/AVFER/test/\" + class_ + \"/\" for class_ in af_classes_t]\n",
        "sources = [\"/content/drive/MyDrive/Datasets/AffectNet/val_class/\" + class_ for class_ in af_classes_t]\n",
        "\n",
        "for i in range(0,len(destinations)):\n",
        "  iw.format_converter(sources[i], format_affectnet, source_type, destinations[i])\n"
      ]
    },
    {
      "cell_type": "code",
      "execution_count": null,
      "metadata": {
        "colab": {
          "base_uri": "https://localhost:8080/"
        },
        "id": "7qCABAiM4CvR",
        "outputId": "c8689468-bb34-4044-9caf-dde1fb34ee06"
      },
      "outputs": [
        {
          "name": "stdout",
          "output_type": "stream",
          "text": [
            "Division of AVFER: \n",
            "/content/drive/My Drive/Datasets/AVFER/train/*\n",
            "/content/drive/My Drive/Datasets/AVFER/val/*\n",
            "/content/drive/My Drive/Datasets/AVFER/test/*\n"
          ]
        }
      ],
      "source": [
        "num_classes = 8\n",
        "data_avfer = []\n",
        "base_directory = \"/content/drive/My Drive/Datasets/AVFER/*\"\n",
        "sets = iw.list_classes(base_directory)\n",
        "i = 0\n",
        "\n",
        "print('Division of AVFER: ')\n",
        "for subset in sets:\n",
        "  data_avfer.append('/content/drive/My Drive/Datasets/AVFER/' + subset + '/*')\n",
        "  print(data_avfer[i])\n",
        "  i = i + 1"
      ]
    },
    {
      "cell_type": "code",
      "execution_count": null,
      "metadata": {
        "colab": {
          "base_uri": "https://localhost:8080/"
        },
        "collapsed": true,
        "id": "ztgNxVVl47fG",
        "outputId": "75241a93-dd8a-4e3b-a9bf-adb65948a8b6"
      },
      "outputs": [
        {
          "name": "stdout",
          "output_type": "stream",
          "text": [
            "/content/drive/My Drive/Datasets/AVFER/train/*\n",
            "Elements in /content/drive/My Drive/Datasets/AVFER/train/ are 36855\n",
            "Elements in /content/drive/My Drive/Datasets/AVFER/val/ are 37591\n",
            "Elements in /content/drive/My Drive/Datasets/AVFER/test/ are 4000\n",
            "Total elements in the dataset is 78446\n"
          ]
        }
      ],
      "source": [
        "avfer_tot = 0\n",
        "i = 0\n",
        "print(data_avfer[0])\n",
        "\n",
        "total = 0\n",
        "for i in range(3):\n",
        "  base_directory = data_avfer[i][:len(data_avfer[i])-1]\n",
        "  counter_folder = 0\n",
        "  for cl in os.listdir(base_directory):\n",
        "    for fl in os.listdir(base_directory + cl + \"/\"):\n",
        "      counter_folder += 1\n",
        "  print(f'Elements in {data_avfer[i][:len(data_avfer[i])-1]} are {counter_folder}')\n",
        "  total += counter_folder\n",
        "print(\"Total elements in the dataset is\", total)"
      ]
    },
    {
      "cell_type": "markdown",
      "metadata": {
        "id": "fiKUpawZS342"
      },
      "source": [
        "## 3. Data Analysis\n"
      ]
    },
    {
      "cell_type": "markdown",
      "metadata": {
        "id": "LPMuS0gLW0jc"
      },
      "source": [
        "### 3.1 Data Analysis on AVFER\n",
        "First of all, we need to check the amount of png and jpg on the training set. Actually, validation and testing set are in jpg image format due to the AffectNet splitting"
      ]
    },
    {
      "cell_type": "code",
      "execution_count": null,
      "metadata": {
        "colab": {
          "base_uri": "https://localhost:8080/",
          "height": 204
        },
        "id": "i6NpGhJlW4t0",
        "outputId": "4ad65fcb-c1be-4795-f014-fea0bb97ede6"
      },
      "outputs": [
        {
          "data": {
            "text/html": [
              "\n",
              "  <div id=\"df-e84888f5-a786-46aa-a326-e73e1204a64d\">\n",
              "    <div class=\"colab-df-container\">\n",
              "      <div>\n",
              "<style scoped>\n",
              "    .dataframe tbody tr th:only-of-type {\n",
              "        vertical-align: middle;\n",
              "    }\n",
              "\n",
              "    .dataframe tbody tr th {\n",
              "        vertical-align: top;\n",
              "    }\n",
              "\n",
              "    .dataframe thead th {\n",
              "        text-align: right;\n",
              "    }\n",
              "</style>\n",
              "<table border=\"1\" class=\"dataframe\">\n",
              "  <thead>\n",
              "    <tr style=\"text-align: right;\">\n",
              "      <th></th>\n",
              "      <th>class</th>\n",
              "      <th>jpg</th>\n",
              "      <th>png</th>\n",
              "      <th>set</th>\n",
              "    </tr>\n",
              "  </thead>\n",
              "  <tbody>\n",
              "    <tr>\n",
              "      <th>0</th>\n",
              "      <td>happy</td>\n",
              "      <td>8989.0</td>\n",
              "      <td>207.0</td>\n",
              "      <td>train</td>\n",
              "    </tr>\n",
              "    <tr>\n",
              "      <th>1</th>\n",
              "      <td>surprise</td>\n",
              "      <td>4048.0</td>\n",
              "      <td>249.0</td>\n",
              "      <td>train</td>\n",
              "    </tr>\n",
              "    <tr>\n",
              "      <th>2</th>\n",
              "      <td>neutral</td>\n",
              "      <td>6198.0</td>\n",
              "      <td>0.0</td>\n",
              "      <td>train</td>\n",
              "    </tr>\n",
              "    <tr>\n",
              "      <th>3</th>\n",
              "      <td>fear</td>\n",
              "      <td>5131.0</td>\n",
              "      <td>75.0</td>\n",
              "      <td>train</td>\n",
              "    </tr>\n",
              "    <tr>\n",
              "      <th>4</th>\n",
              "      <td>disgust</td>\n",
              "      <td>547.0</td>\n",
              "      <td>177.0</td>\n",
              "      <td>train</td>\n",
              "    </tr>\n",
              "  </tbody>\n",
              "</table>\n",
              "</div>\n",
              "      <button class=\"colab-df-convert\" onclick=\"convertToInteractive('df-e84888f5-a786-46aa-a326-e73e1204a64d')\"\n",
              "              title=\"Convert this dataframe to an interactive table.\"\n",
              "              style=\"display:none;\">\n",
              "        \n",
              "  <svg xmlns=\"http://www.w3.org/2000/svg\" height=\"24px\"viewBox=\"0 0 24 24\"\n",
              "       width=\"24px\">\n",
              "    <path d=\"M0 0h24v24H0V0z\" fill=\"none\"/>\n",
              "    <path d=\"M18.56 5.44l.94 2.06.94-2.06 2.06-.94-2.06-.94-.94-2.06-.94 2.06-2.06.94zm-11 1L8.5 8.5l.94-2.06 2.06-.94-2.06-.94L8.5 2.5l-.94 2.06-2.06.94zm10 10l.94 2.06.94-2.06 2.06-.94-2.06-.94-.94-2.06-.94 2.06-2.06.94z\"/><path d=\"M17.41 7.96l-1.37-1.37c-.4-.4-.92-.59-1.43-.59-.52 0-1.04.2-1.43.59L10.3 9.45l-7.72 7.72c-.78.78-.78 2.05 0 2.83L4 21.41c.39.39.9.59 1.41.59.51 0 1.02-.2 1.41-.59l7.78-7.78 2.81-2.81c.8-.78.8-2.07 0-2.86zM5.41 20L4 18.59l7.72-7.72 1.47 1.35L5.41 20z\"/>\n",
              "  </svg>\n",
              "      </button>\n",
              "      \n",
              "  <style>\n",
              "    .colab-df-container {\n",
              "      display:flex;\n",
              "      flex-wrap:wrap;\n",
              "      gap: 12px;\n",
              "    }\n",
              "\n",
              "    .colab-df-convert {\n",
              "      background-color: #E8F0FE;\n",
              "      border: none;\n",
              "      border-radius: 50%;\n",
              "      cursor: pointer;\n",
              "      display: none;\n",
              "      fill: #1967D2;\n",
              "      height: 32px;\n",
              "      padding: 0 0 0 0;\n",
              "      width: 32px;\n",
              "    }\n",
              "\n",
              "    .colab-df-convert:hover {\n",
              "      background-color: #E2EBFA;\n",
              "      box-shadow: 0px 1px 2px rgba(60, 64, 67, 0.3), 0px 1px 3px 1px rgba(60, 64, 67, 0.15);\n",
              "      fill: #174EA6;\n",
              "    }\n",
              "\n",
              "    [theme=dark] .colab-df-convert {\n",
              "      background-color: #3B4455;\n",
              "      fill: #D2E3FC;\n",
              "    }\n",
              "\n",
              "    [theme=dark] .colab-df-convert:hover {\n",
              "      background-color: #434B5C;\n",
              "      box-shadow: 0px 1px 3px 1px rgba(0, 0, 0, 0.15);\n",
              "      filter: drop-shadow(0px 1px 2px rgba(0, 0, 0, 0.3));\n",
              "      fill: #FFFFFF;\n",
              "    }\n",
              "  </style>\n",
              "\n",
              "      <script>\n",
              "        const buttonEl =\n",
              "          document.querySelector('#df-e84888f5-a786-46aa-a326-e73e1204a64d button.colab-df-convert');\n",
              "        buttonEl.style.display =\n",
              "          google.colab.kernel.accessAllowed ? 'block' : 'none';\n",
              "\n",
              "        async function convertToInteractive(key) {\n",
              "          const element = document.querySelector('#df-e84888f5-a786-46aa-a326-e73e1204a64d');\n",
              "          const dataTable =\n",
              "            await google.colab.kernel.invokeFunction('convertToInteractive',\n",
              "                                                     [key], {});\n",
              "          if (!dataTable) return;\n",
              "\n",
              "          const docLinkHtml = 'Like what you see? Visit the ' +\n",
              "            '<a target=\"_blank\" href=https://colab.research.google.com/notebooks/data_table.ipynb>data table notebook</a>'\n",
              "            + ' to learn more about interactive tables.';\n",
              "          element.innerHTML = '';\n",
              "          dataTable['output_type'] = 'display_data';\n",
              "          await google.colab.output.renderOutput(dataTable, element);\n",
              "          const docLink = document.createElement('div');\n",
              "          docLink.innerHTML = docLinkHtml;\n",
              "          element.appendChild(docLink);\n",
              "        }\n",
              "      </script>\n",
              "    </div>\n",
              "  </div>\n",
              "  "
            ],
            "text/plain": [
              "      class     jpg    png    set\n",
              "0     happy  8989.0  207.0  train\n",
              "1  surprise  4048.0  249.0  train\n",
              "2   neutral  6198.0    0.0  train\n",
              "3      fear  5131.0   75.0  train\n",
              "4   disgust   547.0  177.0  train"
            ]
          },
          "execution_count": 51,
          "metadata": {},
          "output_type": "execute_result"
        }
      ],
      "source": [
        "basedir = \"/content/drive/MyDrive/Datasets/AVFER/*\"\n",
        "subsets = [dir for dir in glob.glob(basedir)]\n",
        "df = pd.DataFrame(data={\"class\" : [], \"jpg\" : [], \"png\" : [], \"set\" : []})\n",
        "\n",
        "for dir in subsets:\n",
        "  classes = [cl for cl in glob.glob(dir + \"/*\")]\n",
        "  for cl in classes:\n",
        "    st = os.path.basename(dir)\n",
        "    cls = os.path.basename(cl)\n",
        "    png = iw.counter_file_extension(cl, \"png\")\n",
        "    jpg = iw.counter_file_extension(cl, \"jpg\")\n",
        "    df2 = pd.DataFrame(data={\n",
        "          \"class\" : [cls], \n",
        "          \"jpg\" : [jpg], \n",
        "          \"png\" : [png], \n",
        "          \"set\" : [st]\n",
        "    }) \n",
        "    df = pd.concat([df, df2], ignore_index = True, axis = 0)\n",
        "\n",
        "df.head()"
      ]
    },
    {
      "cell_type": "code",
      "execution_count": null,
      "metadata": {
        "colab": {
          "base_uri": "https://localhost:8080/",
          "height": 474
        },
        "id": "hL828oNzgnhJ",
        "outputId": "cd68517e-3ec6-4c62-9bab-f52af83767ce"
      },
      "outputs": [
        {
          "data": {
            "image/png": "[encoded data removed]",
            "text/plain": [
              "<Figure size 396x396 with 1 Axes>"
            ]
          },
          "metadata": {},
          "output_type": "display_data"
        }
      ],
      "source": [
        "def plt_set(typed, format):\n",
        "  fig = plt.figure(figsize=(5.5,5.5))\n",
        "  ax = fig.add_axes([0,0,1,1])\n",
        "  cp = df[df['set'] == typed]\n",
        "  ax.bar(cp['class'], \n",
        "       cp[format])\n",
        "  plt.title(f'Amount of {format} images in the {typed} dataset')\n",
        "  plt.ylabel('Number')\n",
        "  plt.xlabel('Class')\n",
        "  plt.show()  \n",
        "plt_set('train', 'jpg')"
      ]
    },
    {
      "cell_type": "code",
      "execution_count": null,
      "metadata": {
        "colab": {
          "base_uri": "https://localhost:8080/",
          "height": 474
        },
        "id": "-PDyUQs92GOO",
        "outputId": "b797aece-9bf0-4acb-dd3b-aad0a9d36462"
      },
      "outputs": [
        {
          "data": {
            "image/png": "[encoded data removed]",
            "text/plain": [
              "<Figure size 396x396 with 1 Axes>"
            ]
          },
          "metadata": {},
          "output_type": "display_data"
        }
      ],
      "source": [
        "plt_set('train', 'png')"
      ]
    },
    {
      "cell_type": "code",
      "execution_count": null,
      "metadata": {
        "colab": {
          "base_uri": "https://localhost:8080/",
          "height": 474
        },
        "id": "YaYvHNI_iHu0",
        "outputId": "0619fc6c-7833-4599-b52a-2dfdb83992cf"
      },
      "outputs": [
        {
          "data": {
            "image/png": "[encoded data removed]",
            "text/plain": [
              "<Figure size 396x396 with 1 Axes>"
            ]
          },
          "metadata": {},
          "output_type": "display_data"
        }
      ],
      "source": [
        "plt_set('val', 'jpg') # AffectNet didn't have png"
      ]
    },
    {
      "cell_type": "code",
      "execution_count": null,
      "metadata": {
        "colab": {
          "base_uri": "https://localhost:8080/",
          "height": 474
        },
        "id": "V2okM9VRiKST",
        "outputId": "211e4d13-994d-44e8-f1e1-abf45fad2f7c"
      },
      "outputs": [
        {
          "data": {
            "image/png": "[encoded data removed]",
            "text/plain": [
              "<Figure size 396x396 with 1 Axes>"
            ]
          },
          "metadata": {},
          "output_type": "display_data"
        }
      ],
      "source": [
        "plt_set('test', 'jpg') # AffectNet didn't have png"
      ]
    },
    {
      "cell_type": "markdown",
      "metadata": {
        "id": "KsT90RRpoB3Y"
      },
      "source": [
        "## 4. Loading and Balancing Datasets"
      ]
    },
    {
      "cell_type": "code",
      "execution_count": null,
      "metadata": {
        "id": "atxvusysoae9"
      },
      "outputs": [],
      "source": [
        "!mkdir /content/drive/MyDrive/Datasets/AVFER/tmp"
      ]
    },
    {
      "cell_type": "code",
      "execution_count": null,
      "metadata": {
        "colab": {
          "base_uri": "https://localhost:8080/"
        },
        "id": "ER4k8_8EojQR",
        "outputId": "90f766b7-edad-41f3-d25c-a06c4d9b2f26"
      },
      "outputs": [
        {
          "name": "stdout",
          "output_type": "stream",
          "text": [
            "Amount of samples per class for validation set: 6275\n",
            "Amount of samples per class for testing set: 15689\n",
            "Amount of samples per class for training set: 56482\n",
            "Amount of augmented training set:  169446\n",
            "Amount of samples for augmented training set divided by classes: 21180\n",
            "Amount of samples for validation set divided by classes: 784\n",
            "Amount of samples for testing set divided by classes: 1961\n"
          ]
        }
      ],
      "source": [
        "import sys\n",
        "basedir = \"/content/drive/MyDrive/Datasets/AVFER/\"\n",
        "types = ['val', 'test', 'train']\n",
        "ref = [str(basedir  + types[i] + \"/*\") for i in range(len(types))]\n",
        "total = 0\n",
        "for el in ref:\n",
        "  total += iw.counter_samples(el)\n",
        "\n",
        "# Splitting ratio 100 :-> 80/20 (train/test) and 80 :-> 90/10 (train/val)\n",
        "train_ratio = 80\n",
        "val_ratio = 10\n",
        "test_ratio = 20\n",
        "\n",
        "# Splitting distribution\n",
        "val_amount = int((((total * train_ratio) / 100) * 10 / 100))\n",
        "test_amount = int((total * test_ratio)/ 100)\n",
        "train_amount = int(total - (val_amount + test_amount))\n",
        "print('Amount of samples per class for validation set:', val_amount) \n",
        "print('Amount of samples per class for testing set:', test_amount) \n",
        "print('Amount of samples per class for training set:', train_amount) \n",
        "\n",
        "# check augmentation of 3 \n",
        "augm_train = train_amount * 3\n",
        "print('Amount of augmented training set: ', augm_train)\n",
        "print('Amount of samples for augmented training set divided by classes:', int(augm_train / 8))\n",
        "print('Amount of samples for validation set divided by classes:', int(val_amount / 8))\n",
        "print('Amount of samples for testing set divided by classes:', int(test_amount / 8))\n",
        "\n",
        "# validation balancing \n",
        "val = ref[0]\n",
        "min = sys.maxsize\n",
        "countcl = iw.counter_samples_on_class(val)\n",
        "for el in countcl.keys():\n",
        "  if countcl[el] < min:\n",
        "    min = countcl[el]\n",
        "\n",
        "if min < (val_amount / 8):\n",
        "  print('Error, the amount of samples for the validation set can\\'t be reduce to minimum values')\n",
        "\n",
        "classes = iw.list_classes(val)\n",
        "residual = {}\n",
        "for cl in classes:\n",
        "  residual[cl] = countcl[cl] - ((val_amount / 8) + (test_amount / 8))"
      ]
    },
    {
      "cell_type": "code",
      "execution_count": null,
      "metadata": {
        "id": "f92LqM9p5P49"
      },
      "outputs": [],
      "source": [
        "for cl in classes:\n",
        "  os.mkdir(basedir + \"tmp/\" + cl + \"/\")"
      ]
    },
    {
      "cell_type": "code",
      "execution_count": null,
      "metadata": {
        "colab": {
          "base_uri": "https://localhost:8080/"
        },
        "id": "osIzPaDD1dPG",
        "outputId": "b6157f5d-c038-47e7-8f28-835a829313fc"
      },
      "outputs": [
        {
          "name": "stdout",
          "output_type": "stream",
          "text": [
            "Verify the correct amount for validation...\n",
            "Splitting possible.\n"
          ]
        }
      ],
      "source": [
        "import shutil\n",
        "\n",
        "# check validation preconditions\n",
        "print('Verify the correct amount for validation...')\n",
        "err = False\n",
        "for cl in classes:\n",
        "  if countcl[cl] - residual[cl] - (test_amount / 8) < (val_amount / 8):\n",
        "    print(f'Error, the residual amount put class {cl} to illegal value')\n",
        "    err = True\n",
        "\n",
        "if not err:\n",
        "  print('Splitting possible.')\n",
        "\n",
        "# splittig training and validation set according to the proportion previously calculated.\n",
        "valdir = basedir + ref[0] + \"/\"\n",
        "traindir = basedir + ref[2] + \"/\"\n",
        "for cl in classes:\n",
        "  c = 0\n",
        "  for fl in glob.glob(valdir + cl + \"/*\"):\n",
        "    if c < int(residual[cl]):\n",
        "      c += 1\n",
        "      shutil.copyfile(fl, os.path.join(traindir + cl, os.path.basename(fl)))\n",
        "      os.remove(os.path.join(valdir + cl, os.path.basename(fl)))\n",
        "    else:\n",
        "      break\n",
        "\n",
        "# done"
      ]
    },
    {
      "cell_type": "markdown",
      "metadata": {
        "id": "WUI1-XDP8UcW"
      },
      "source": [
        "We put the residual samples of AffectNet from validation set to training set. The current amount of samples in the validation set is the sum of validation and testing validation. If we want to be sure that the splitting is doing correctly, we will execute the followings checking."
      ]
    },
    {
      "cell_type": "code",
      "execution_count": null,
      "metadata": {
        "colab": {
          "base_uri": "https://localhost:8080/"
        },
        "id": "0M39kUds71rA",
        "outputId": "60fdf5a8-683e-4e5e-93cb-e3a09e18ae16"
      },
      "outputs": [
        {
          "name": "stdout",
          "output_type": "stream",
          "text": [
            "Verify the correct amount for testing...\n",
            "Splitting possible.\n",
            "Current status of the validation set:\n",
            "------------------------------------------------------------\n",
            "Total amount of happy samples in validation samples: 5000\n",
            "Residual amount after last splitting 3039\n",
            "Total amount of surprise samples in validation samples: 5000\n",
            "Residual amount after last splitting 3039\n",
            "Total amount of neutral samples in validation samples: 5030\n",
            "Residual amount after last splitting 3069\n",
            "Total amount of fear samples in validation samples: 5000\n",
            "Residual amount after last splitting 3039\n",
            "Total amount of disgust samples in validation samples: 3803\n",
            "Residual amount after last splitting 1842\n",
            "Total amount of contempt samples in validation samples: 3750\n",
            "Residual amount after last splitting 1789\n",
            "Total amount of anger samples in validation samples: 5008\n",
            "Residual amount after last splitting 3047\n",
            "Total amount of sad samples in validation samples: 5000\n",
            "Residual amount after last splitting 3039\n",
            "------------------------------------------------------------\n",
            "Final total amount of samples in the validation set: 24312\n"
          ]
        }
      ],
      "source": [
        "# check testing splitting preconditions\n",
        "residual_test = {}\n",
        "print('Verify the correct amount for testing...')\n",
        "for cl in classes:\n",
        "  residual_test[cl] = countcl[cl] - residual[cl]\n",
        "  if residual_test[cl] - (test_amount / 8) < (val_amount / 8):\n",
        "    print(f'Error, the residual amount put class {cl} to illegal value')\n",
        "    err = True\n",
        "\n",
        "if not err:\n",
        "  print('Splitting possible.')\n",
        "\n",
        "\n",
        "print('Current status of the validation set:')\n",
        "print('-'*60)\n",
        "valdir = ref[0]\n",
        "clcount = iw.counter_samples_on_class(valdir)\n",
        "res = 0\n",
        "for cl in classes:\n",
        "  print(f'Total amount of {cl} samples in validation samples:', clcount[cl])\n",
        "  res = clcount[cl] - int((test_amount / 8))\n",
        "  print(f'Residual amount after last splitting {res}')\n",
        "print('-'*60)\n",
        "print(f'Final total amount of samples in the validation set:', res * 8)"
      ]
    },
    {
      "cell_type": "code",
      "execution_count": null,
      "metadata": {
        "colab": {
          "base_uri": "https://localhost:8080/"
        },
        "id": "qnWkj6XlBffL",
        "outputId": "6df6c5e3-c0bd-4cd3-c61b-cea28b1c14ee"
      },
      "outputs": [
        {
          "name": "stdout",
          "output_type": "stream",
          "text": [
            "Splitting completed\n"
          ]
        }
      ],
      "source": [
        "valdir = basedir + \"val\" + \"/\"\n",
        "testdir = basedir + \"tmp\" + \"/\"\n",
        "\n",
        "for cl in classes:\n",
        "  c = 0\n",
        "  for fl in glob.glob(valdir + cl + \"/*\"):\n",
        "    if c < int((test_amount / 8)):\n",
        "      c += 1\n",
        "      shutil.copyfile(fl, os.path.join(testdir + cl, os.path.basename(fl)))\n",
        "      os.remove(os.path.join(valdir + cl, os.path.basename(fl)))\n",
        "    else:\n",
        "      break\n",
        "\n",
        "print('Splitting completed')"
      ]
    },
    {
      "cell_type": "code",
      "execution_count": null,
      "metadata": {
        "id": "9Iy7eUoxGYG_"
      },
      "outputs": [],
      "source": [
        "for cl in classes:\n",
        "  shutil.rmtree(basedir + \"tmp/\" + cl + \"/\")\n",
        "os.rmdir(basedir + \"tmp/\")"
      ]
    },
    {
      "cell_type": "code",
      "execution_count": null,
      "metadata": {
        "colab": {
          "base_uri": "https://localhost:8080/",
          "height": 336
        },
        "id": "cNCrzcJjESy2",
        "outputId": "020a00e2-c17d-4dfd-a3df-80cfcbb38e15"
      },
      "outputs": [
        {
          "data": {
            "image/png": "[encoded data removed]",
            "text/plain": [
              "<Figure size 432x288 with 1 Axes>"
            ]
          },
          "metadata": {},
          "output_type": "display_data"
        }
      ],
      "source": [
        "testdir = \"/content/drive/MyDrive/Datasets/AVFER/test\"\n",
        "plot_dataset(testdir + \"/*\")"
      ]
    },
    {
      "cell_type": "code",
      "execution_count": null,
      "metadata": {
        "colab": {
          "base_uri": "https://localhost:8080/",
          "height": 336
        },
        "id": "EeMW9-oeE1JR",
        "outputId": "84f536d9-7368-4506-e61c-08bce7cece83"
      },
      "outputs": [
        {
          "data": {
            "image/png": "[encoded data removed]",
            "text/plain": [
              "<Figure size 432x288 with 1 Axes>"
            ]
          },
          "metadata": {},
          "output_type": "display_data"
        }
      ],
      "source": [
        "valdir = \"/content/drive/MyDrive/Datasets/AVFER/val\"\n",
        "plot_dataset(valdir + \"/*\")"
      ]
    },
    {
      "cell_type": "code",
      "execution_count": null,
      "metadata": {
        "colab": {
          "base_uri": "https://localhost:8080/",
          "height": 336
        },
        "id": "ENGmxRvvE3z0",
        "outputId": "ef344703-6e35-4448-81a6-7c530edca972"
      },
      "outputs": [
        {
          "data": {
            "image/png": "[encoded data removed]",
            "text/plain": [
              "<Figure size 432x288 with 1 Axes>"
            ]
          },
          "metadata": {},
          "output_type": "display_data"
        }
      ],
      "source": [
        "traindir = \"/content/drive/MyDrive/Datasets/AVFER/train\"\n",
        "plot_dataset(traindir + \"/*\")"
      ]
    },
    {
      "cell_type": "code",
      "execution_count": null,
      "metadata": {
        "colab": {
          "base_uri": "https://localhost:8080/"
        },
        "id": "I1Agz2BHTjDk",
        "outputId": "8fca697a-3bf9-4448-9953-95525372ad30"
      },
      "outputs": [
        {
          "data": {
            "text/plain": [
              "36855"
            ]
          },
          "execution_count": 66,
          "metadata": {},
          "output_type": "execute_result"
        }
      ],
      "source": [
        "iw.counter_samples(traindir + \"/*\")"
      ]
    },
    {
      "cell_type": "code",
      "execution_count": null,
      "metadata": {
        "colab": {
          "base_uri": "https://localhost:8080/"
        },
        "id": "S80E8B5EpgSF",
        "outputId": "75ed5161-72fa-436a-a4b6-20f244cae469"
      },
      "outputs": [
        {
          "name": "stdout",
          "output_type": "stream",
          "text": [
            "Amount for class happy is 3039\n",
            "Amount for class surprise is 3039\n",
            "Amount for class neutral is 3069\n",
            "Amount for class fear is 3039\n",
            "Amount for class disgust is 1842\n",
            "Amount for class contempt is 1789\n",
            "Amount for class anger is 3047\n",
            "Amount for class sad is 3039\n"
          ]
        }
      ],
      "source": [
        "quantities = iw.counter_samples_on_class(valdir + \"/*\")\n",
        "for cl in quantities.keys():\n",
        "  print('Amount for class {} is {}'.format(cl, quantities[cl]))"
      ]
    },
    {
      "cell_type": "code",
      "execution_count": null,
      "metadata": {
        "colab": {
          "base_uri": "https://localhost:8080/"
        },
        "id": "CRjsPdQEQKrD",
        "outputId": "4a6b4e17-590d-4845-ee82-84a38feb0945"
      },
      "outputs": [
        {
          "name": "stdout",
          "output_type": "stream",
          "text": [
            "The current amount for the class happy is 3039\n",
            "The current amount for the class surprise is 3039\n",
            "The current amount for the class neutral is 3069\n",
            "The current amount for the class fear is 3039\n",
            "The current amount for the class disgust is 1842\n",
            "The current amount for the class contempt is 1789\n",
            "The current amount for the class anger is 3047\n",
            "The current amount for the class sad is 3039\n",
            "----------------------------------------\n",
            "Balance it as well as the testing set...\n",
            "happy: 3039 -> 2359 with residual of 680\n",
            "surprise: 3039 -> 2359 with residual of 680\n",
            "neutral: 3069 -> 2389 with residual of 680\n",
            "fear: 3039 -> 2359 with residual of 680\n",
            "disgust: 1842 -> 1162 with residual of 680\n",
            "contempt: 1789 -> 1109 with residual of 680\n",
            "anger: 3047 -> 2367 with residual of 680\n",
            "sad: 3039 -> 2359 with residual of 680\n",
            "Balanced completed.\n",
            "----------------------------------------\n"
          ]
        }
      ],
      "source": [
        "counters = iw.counter_samples_on_class(valdir + \"/*\")\n",
        "for key in counters.keys():\n",
        "  print(f'The current amount for the class {key} is {counters[key]}')\n",
        "print('-'*40)\n",
        "print('Balance it as well as the testing set...')\n",
        "residual = 680\n",
        "for cl in glob.glob(valdir + \"/*\"):\n",
        "  total = counters[os.path.basename(cl)]\n",
        "  count = total - residual\n",
        "  print(\"{}: {} -> {} with residual of {}\".format(os.path.basename(cl), total, count, total - count ))\n",
        "  for fl in glob.glob(cl + \"/*\"):\n",
        "    if count != 0:\n",
        "      count = count - 1\n",
        "      shutil.copyfile(fl, os.path.join(traindir,os.path.basename(cl), os.path.basename(fl)))\n",
        "      os.remove(fl)\n",
        "    else:\n",
        "      break\n",
        "\n",
        "print('Balanced completed.')\n",
        "print('-'*40)"
      ]
    },
    {
      "cell_type": "markdown",
      "metadata": {
        "id": "bD8RQf6DLk8T"
      },
      "source": [
        "## 5. Data Pre-processing"
      ]
    },
    {
      "cell_type": "code",
      "execution_count": null,
      "metadata": {
        "colab": {
          "base_uri": "https://localhost:8080/"
        },
        "id": "pzXJbwakM1t1",
        "outputId": "7fbd5b30-2a60-4a82-89e9-2ab206d9d53b"
      },
      "outputs": [
        {
          "data": {
            "text/plain": [
              "[0, 62758]"
            ]
          },
          "execution_count": 72,
          "metadata": {},
          "output_type": "execute_result"
        }
      ],
      "source": [
        "path = \"/content/drive/MyDrive/Datasets/AVFER/\"\n",
        "\n",
        "# checking the number of channels \n",
        "\n",
        "total = [0,0] # 0 for 1 channel, 1 for 3 channels\n",
        "for path in glob.glob(path + \"*\"):\n",
        "  for cl in glob.glob(path + \"/*\"):\n",
        "    counter = [0,0] # 0 for 1 channel, 1 for 3 channels\n",
        "    for fl in glob.glob(cl + \"/*\"):\n",
        "      image = cv2.imread(fl)\n",
        "      if(len(image.shape)<2):\n",
        "        counter[0] += 1\n",
        "        conv = cv2.cvtColor(image, cv2.COLOR_BGR2RGB)\n",
        "        if len(image.shape)==3:\n",
        "          cv2.imwrite(fl, image)\n",
        "      else:\n",
        "        counter[1] += 1\n",
        "    total = [total[i] + counter[i] for i in range(2)]\n",
        "\n",
        "total\n",
        "\n"
      ]
    },
    {
      "cell_type": "code",
      "execution_count": null,
      "metadata": {
        "colab": {
          "base_uri": "https://localhost:8080/"
        },
        "id": "Nlv2HNo1yOFV",
        "outputId": "42944e13-ed37-4b3c-943d-829ec5d849d9"
      },
      "outputs": [
        {
          "data": {
            "text/plain": [
              "[0, 62758]"
            ]
          },
          "execution_count": 73,
          "metadata": {},
          "output_type": "execute_result"
        }
      ],
      "source": [
        "path = \"/content/drive/MyDrive/Datasets/AVFER/\"\n",
        "total = [0,0] # 0 for 1 channel, 1 for 3 channels\n",
        "\n",
        "for path in glob.glob(path + \"*\"):\n",
        "  for cl in glob.glob(path + \"/*\"):\n",
        "    counter = [0,0] # 0 for 1 channel, 1 for 3 channels\n",
        "    for fl in glob.glob(cl + \"/*\"):\n",
        "      image = cv2.imread(fl)\n",
        "      if(len(image.shape)<2):\n",
        "        counter[0] += 1\n",
        "      else:\n",
        "        counter[1] += 1\n",
        "    total = [total[i] + counter[i] for i in range(2)]\n",
        "\n",
        "total "
      ]
    },
    {
      "cell_type": "code",
      "execution_count": null,
      "metadata": {
        "colab": {
          "base_uri": "https://localhost:8080/",
          "height": 37
        },
        "id": "oa4e7hdApYqU",
        "outputId": "8e904e6d-700c-499d-eec1-5939c76359d3"
      },
      "outputs": [
        {
          "data": {
            "application/vnd.google.colaboratory.intrinsic+json": {
              "type": "string"
            },
            "text/plain": [
              "'L'"
            ]
          },
          "execution_count": 74,
          "metadata": {},
          "output_type": "execute_result"
        }
      ],
      "source": [
        "image = Image.open('/content/drive/MyDrive/Datasets/FER-2013/train/anger/Training_10118481.jpg')\n",
        "image.mode # L is gray-scale"
      ]
    },
    {
      "cell_type": "code",
      "execution_count": null,
      "metadata": {
        "id": "41l3c6CC31NX"
      },
      "outputs": [],
      "source": [
        "# test image in L mode\n",
        "test = '/content/drive/MyDrive/Datasets/FER-2013/train/anger/Training_10118481.jpg'\n",
        "pic = imageio.imread(test)\n",
        "image = Image.open(test)\n",
        "\n",
        "# convert to RGB\n",
        "image = image.convert('RGB')\n",
        "im_rgb = cv2.cvtColor(pic, cv2.COLOR_BGR2RGB)\n",
        "# temporal saving \n",
        "tmp = '/content/test.jpg'\n",
        "image.save(tmp)\n",
        "pic2 = imageio.imread(tmp)\n",
        "\n",
        "# remove temporal image\n",
        "os.remove(tmp)\n",
        "\n",
        "# plot the result and compare with converted RGB and original RGB version\n",
        "fig, ax = plt.subplots(nrows = 1, ncols=2, figsize=(15,5)) \n",
        "ax1, ax2 = ax\n",
        "ax1.imshow(im_rgb[ :, :])\n",
        "ax2.imshow(pic2[:,:,:])"
      ]
    },
    {
      "cell_type": "code",
      "execution_count": null,
      "metadata": {
        "colab": {
          "base_uri": "https://localhost:8080/"
        },
        "id": "NMsBS7j61ZUr",
        "outputId": "0d8c6594-91e6-4389-ee61-265519141586"
      },
      "outputs": [
        {
          "data": {
            "text/plain": [
              "Array([[94, 68, 53],\n",
              "       [91, 65, 50],\n",
              "       [93, 67, 52],\n",
              "       ...,\n",
              "       [37, 43, 55],\n",
              "       [36, 42, 54],\n",
              "       [36, 42, 54]], dtype=uint8)"
            ]
          },
          "execution_count": 76,
          "metadata": {},
          "output_type": "execute_result"
        }
      ],
      "source": [
        "pic3 = imageio.imread(\"/content/drive/MyDrive/Datasets/AffectNet/train_class/anger/Copia di image0000006.jpg\")\n",
        "pic3[0] # Array of pixel values for a colored image"
      ]
    },
    {
      "cell_type": "code",
      "execution_count": null,
      "metadata": {
        "colab": {
          "base_uri": "https://localhost:8080/"
        },
        "id": "5qCssOii1Foi",
        "outputId": "c64c8565-1f40-47a4-c9d4-324df07d1305"
      },
      "outputs": [
        {
          "data": {
            "text/plain": [
              "array([[ 50,  50,  50],\n",
              "       [ 32,  32,  32],\n",
              "       [ 15,  15,  15],\n",
              "       [ 11,  11,  11],\n",
              "       [ 12,  12,  12],\n",
              "       [ 10,  10,  10],\n",
              "       [ 10,  10,  10],\n",
              "       [  8,   8,   8],\n",
              "       [ 15,  15,  15],\n",
              "       [ 10,  10,  10],\n",
              "       [  7,   7,   7],\n",
              "       [  7,   7,   7],\n",
              "       [  6,   6,   6],\n",
              "       [  5,   5,   5],\n",
              "       [  5,   5,   5],\n",
              "       [  6,   6,   6],\n",
              "       [  8,   8,   8],\n",
              "       [  4,   4,   4],\n",
              "       [  6,   6,   6],\n",
              "       [ 10,  10,  10],\n",
              "       [  3,   3,   3],\n",
              "       [  6,   6,   6],\n",
              "       [ 13,  13,  13],\n",
              "       [  4,   4,   4],\n",
              "       [  8,   8,   8],\n",
              "       [ 11,  11,  11],\n",
              "       [ 15,  15,  15],\n",
              "       [ 10,  10,  10],\n",
              "       [  6,   6,   6],\n",
              "       [  8,   8,   8],\n",
              "       [  7,   7,   7],\n",
              "       [  8,   8,   8],\n",
              "       [  6,   6,   6],\n",
              "       [ 19,  19,  19],\n",
              "       [ 19,  19,  19],\n",
              "       [ 22,  22,  22],\n",
              "       [ 20,  20,  20],\n",
              "       [ 22,  22,  22],\n",
              "       [ 47,  47,  47],\n",
              "       [ 61,  61,  61],\n",
              "       [ 42,  42,  42],\n",
              "       [ 55,  55,  55],\n",
              "       [ 58,  58,  58],\n",
              "       [ 69,  69,  69],\n",
              "       [ 96,  96,  96],\n",
              "       [133, 133, 133],\n",
              "       [151, 151, 151],\n",
              "       [ 86,  86,  86]], dtype=uint8)"
            ]
          },
          "execution_count": 77,
          "metadata": {},
          "output_type": "execute_result"
        }
      ],
      "source": [
        "im_rgb[0] # Array of pixels values for a gray-scaled image "
      ]
    },
    {
      "cell_type": "code",
      "execution_count": null,
      "metadata": {
        "colab": {
          "base_uri": "https://localhost:8080/"
        },
        "id": "aM4Ivqsa1HEg",
        "outputId": "6f401689-d4b8-4630-d5a7-d5e0835e7994"
      },
      "outputs": [
        {
          "data": {
            "text/plain": [
              "Array([[ 57,  57,  57],\n",
              "       [ 31,  31,  31],\n",
              "       [ 11,  11,  11],\n",
              "       [ 11,  11,  11],\n",
              "       [ 14,  14,  14],\n",
              "       [  8,   8,   8],\n",
              "       [  6,   6,   6],\n",
              "       [ 10,  10,  10],\n",
              "       [ 17,  17,  17],\n",
              "       [ 10,  10,  10],\n",
              "       [  0,   0,   0],\n",
              "       [  3,   3,   3],\n",
              "       [ 12,  12,  12],\n",
              "       [  5,   5,   5],\n",
              "       [  0,   0,   0],\n",
              "       [  8,   8,   8],\n",
              "       [  6,   6,   6],\n",
              "       [  8,   8,   8],\n",
              "       [  0,   0,   0],\n",
              "       [ 12,  12,  12],\n",
              "       [  8,   8,   8],\n",
              "       [  0,   0,   0],\n",
              "       [ 15,  15,  15],\n",
              "       [  0,   0,   0],\n",
              "       [ 11,  11,  11],\n",
              "       [ 12,  12,  12],\n",
              "       [ 12,  12,  12],\n",
              "       [ 10,  10,  10],\n",
              "       [  7,   7,   7],\n",
              "       [  6,   6,   6],\n",
              "       [  7,   7,   7],\n",
              "       [  9,   9,   9],\n",
              "       [ 11,  11,  11],\n",
              "       [ 14,  14,  14],\n",
              "       [ 20,  20,  20],\n",
              "       [ 23,  23,  23],\n",
              "       [ 20,  20,  20],\n",
              "       [ 23,  23,  23],\n",
              "       [ 42,  42,  42],\n",
              "       [ 64,  64,  64],\n",
              "       [ 43,  43,  43],\n",
              "       [ 53,  53,  53],\n",
              "       [ 56,  56,  56],\n",
              "       [ 69,  69,  69],\n",
              "       [ 94,  94,  94],\n",
              "       [137, 137, 137],\n",
              "       [146, 146, 146],\n",
              "       [ 90,  90,  90]], dtype=uint8)"
            ]
          },
          "execution_count": 78,
          "metadata": {},
          "output_type": "execute_result"
        }
      ],
      "source": [
        "# Array of pixels values for 3 channels adaptation of the gray-scale image\n",
        "pic2[0]"
      ]
    },
    {
      "cell_type": "code",
      "execution_count": null,
      "metadata": {
        "colab": {
          "base_uri": "https://localhost:8080/",
          "height": 337
        },
        "id": "AB-90HH_xUFG",
        "outputId": "5646a0a9-6757-4fb1-f4e1-c61eadc0d630"
      },
      "outputs": [
        {
          "data": {
            "image/png": "[encoded data removed]",
            "text/plain": [
              "<Figure size 432x288 with 1 Axes>"
            ]
          },
          "metadata": {},
          "output_type": "display_data"
        }
      ],
      "source": [
        "traindir = \"/content/drive/MyDrive/Datasets/AVFER/train\"\n",
        "plot_dataset(traindir + \"/*\")"
      ]
    },
    {
      "cell_type": "code",
      "execution_count": null,
      "metadata": {
        "colab": {
          "base_uri": "https://localhost:8080/"
        },
        "id": "ZSWIzQE0YKCj",
        "outputId": "77732136-3e8c-4db7-ef46-c98a8100f939"
      },
      "outputs": [
        {
          "name": "stdout",
          "output_type": "stream",
          "text": [
            "Convert from class /content/drive/MyDrive/Datasets/AVFER/train/happy\n",
            "Convert from class /content/drive/MyDrive/Datasets/AVFER/train/surprise\n",
            "Convert from class /content/drive/MyDrive/Datasets/AVFER/train/neutral\n",
            "Convert from class /content/drive/MyDrive/Datasets/AVFER/train/fear\n",
            "Convert from class /content/drive/MyDrive/Datasets/AVFER/train/disgust\n",
            "Convert from class /content/drive/MyDrive/Datasets/AVFER/train/contempt\n",
            "Convert from class /content/drive/MyDrive/Datasets/AVFER/train/anger\n",
            "Convert from class /content/drive/MyDrive/Datasets/AVFER/train/sad\n"
          ]
        }
      ],
      "source": [
        "ref = \"/content/drive/MyDrive/Datasets/AVFER/train\"\n",
        "\n",
        "for cl in glob.glob(ref + \"/*\"):\n",
        "  print(\"Convert from class {}\".format(cl))\n",
        "  for fl in glob.glob(cl + \"/*\"):\n",
        "    if fl[len(fl)-4:len(fl)] == '.png':\n",
        "      os.rename(fl, str(fl[0:len(fl)-4]) + \".jpg\")"
      ]
    },
    {
      "cell_type": "code",
      "execution_count": null,
      "metadata": {
        "colab": {
          "base_uri": "https://localhost:8080/"
        },
        "id": "hWvsgKfMComt",
        "outputId": "7d0e8864-1bec-4a19-f3d9-099212ca537c"
      },
      "outputs": [
        {
          "name": "stdout",
          "output_type": "stream",
          "text": [
            "Counting png on class /content/drive/MyDrive/Datasets/AVFER/train/happy\n",
            "Counting png on class /content/drive/MyDrive/Datasets/AVFER/train/surprise\n",
            "Counting png on class /content/drive/MyDrive/Datasets/AVFER/train/neutral\n",
            "Counting png on class /content/drive/MyDrive/Datasets/AVFER/train/fear\n",
            "Counting png on class /content/drive/MyDrive/Datasets/AVFER/train/disgust\n",
            "Counting png on class /content/drive/MyDrive/Datasets/AVFER/train/contempt\n",
            "Counting png on class /content/drive/MyDrive/Datasets/AVFER/train/anger\n",
            "Counting png on class /content/drive/MyDrive/Datasets/AVFER/train/sad\n",
            "Remaining png samples: 0\n"
          ]
        }
      ],
      "source": [
        "ref = \"/content/drive/MyDrive/Datasets/AVFER/train\"\n",
        "\n",
        "counter = 0\n",
        "\n",
        "for cl in glob.glob(ref + \"/*\"):\n",
        "  print(\"Counting png on class {}\".format(cl))\n",
        "  for fl in glob.glob(cl + \"/*\"):\n",
        "    if fl[len(fl)-4:len(fl)] == '.png':\n",
        "      counter += 1\n",
        "\n",
        "print('Remaining png samples: {}'.format(counter))"
      ]
    },
    {
      "cell_type": "markdown",
      "metadata": {
        "id": "fI_Q9b3azsq-"
      },
      "source": [
        "Renaming the source folders for augmentation, only train is considered."
      ]
    },
    {
      "cell_type": "code",
      "execution_count": null,
      "metadata": {
        "id": "uSfNoIi20ifR"
      },
      "outputs": [],
      "source": [
        "# renaming files pre-augmentation\n",
        "\n",
        "testdir = \"/content/drive/MyDrive/Datasets/AVFER/train\"\n",
        "for cl in glob.glob(testdir + \"/*\"):\n",
        "  counter = 0\n",
        "  for img in glob.glob(cl + \"/*\"):\n",
        "      os.rename(img, cl + \"/\" + os.path.basename(cl) + \"-\" + str(counter) + \"-file\" + img[len(img) - 4 : len(img)])\n",
        "      counter += 1"
      ]
    },
    {
      "cell_type": "code",
      "execution_count": null,
      "metadata": {
        "id": "SKk5qeIwCjMx"
      },
      "outputs": [],
      "source": [
        "from tensorflow.keras.preprocessing.image import ImageDataGenerator\n",
        "\n",
        "def generator(path, \n",
        "              format_img, \n",
        "              dest_path,\n",
        "              starting_counter=0, \n",
        "              num_augment=1, \n",
        "              zoom_range=0.6, \n",
        "              brightness_range=(0.2,0.8),\n",
        "              width_shift_range=0.2,\n",
        "              height_shift_range=0.2,\n",
        "              rotation_range=10\n",
        "              ):\n",
        "   gen = ImageDataGenerator(\n",
        "            featurewise_center=True,\n",
        "            featurewise_std_normalization=True,\n",
        "            rotation_range=rotation_range,\n",
        "            width_shift_range=width_shift_range,\n",
        "            height_shift_range=height_shift_range,\n",
        "            brightness_range=brightness_range,\n",
        "            zoom_range=zoom_range,\n",
        "            horizontal_flip=True\n",
        "            )\n",
        "   print(f'Data Augmentation parameters:\\nZoom Range: {zoom_range}\\nBrighness Range: {brightness_range}\\nShift: ({width_shift_range},{height_shift_range})\\nRotation Degrees: {rotation_range}')\n",
        "   if iw.navigate_path(dest_path) == 0:\n",
        "      try:\n",
        "        os.mkdir(dest_path)\n",
        "      except FileExistsError:\n",
        "        pass\n",
        "   num_el = iw.navigate_path(dest_path)\n",
        "   c = starting_counter\n",
        "   print('Starting generation...')\n",
        "   for file in glob.glob(path + \"/*.\" + format_img):\n",
        "      img = cv2.imread(file)\n",
        "      # convert to numpy array\n",
        "      # expand dimension to one sample\n",
        "      samples = np.expand_dims(img, 0)\n",
        "      iterator = gen.flow(samples, batch_size=1)\n",
        "      for i in range(0, num_augment):\n",
        "          batch = iterator.next()\n",
        "          image = batch[0].astype('uint8')\n",
        "          cv2.imwrite(dest_path + \"augmented_on_\" + str(num_el) + \"_\" + str(c) + \".\"+ format_img, image)\n",
        "          c += 1\n",
        "   print(f'Data Augmentation for the {path} is done!')"
      ]
    },
    {
      "cell_type": "code",
      "execution_count": null,
      "metadata": {
        "id": "VUbU4BISNSke"
      },
      "outputs": [],
      "source": [
        "!rm -rf /content/drive/MyDrive/Datasets/AVFER/train/.ipynb_checkpoints"
      ]
    },
    {
      "cell_type": "markdown",
      "source": [
        "The total amount of copies for each samples depends on the total amount of images for its class. We can calculate the number of copies N as follow:\n",
        "$ C(i) = T \\div N(i) + 1 $ $ \\forall i \\in classes.keys()$\n",
        "\n",
        "With $ T $ the total amount of samples that we want for each class, it is equal to 20.000, $ N(i) $ the initial amount of samples for the class $ i $ and $C(i)$ the final amount of data of the class $ i $ after the augmentation phase.\n"
      ],
      "metadata": {
        "id": "eeYmX28dYsQ0"
      }
    },
    {
      "cell_type": "code",
      "execution_count": null,
      "metadata": {
        "id": "8pgmjiD9CyQ0"
      },
      "outputs": [],
      "source": [
        "augm_class = []\n",
        "copies = {}\n",
        "categories_data = iw.counter_samples_on_class(\"/content/drive/MyDrive/Datasets/AVFER/train/*\")\n",
        "\n",
        "for cl in categories_data.keys():\n",
        "  copies[cl] = int(20000/categories_data[cl]) + 1\n"
      ]
    },
    {
      "cell_type": "code",
      "execution_count": null,
      "metadata": {
        "colab": {
          "base_uri": "https://localhost:8080/"
        },
        "id": "m7zOFFLkC3g6",
        "outputId": "21ca8300-07ed-4cd0-9883-00bd63f994f8"
      },
      "outputs": [
        {
          "name": "stdout",
          "output_type": "stream",
          "text": [
            "Generation of happy samples with 2 copy...\n",
            "Data Augmentation parameters:\n",
            "Zoom Range: 0.6\n",
            "Brighness Range: (0.2, 0.8)\n",
            "Shift: (0.2,0.2)\n",
            "Rotation Degrees: 10\n",
            "Starting generation...\n"
          ]
        },
        {
          "name": "stderr",
          "output_type": "stream",
          "text": [
            "/usr/local/lib/python3.7/dist-packages/keras_preprocessing/image/image_data_generator.py:720: UserWarning: This ImageDataGenerator specifies `featurewise_center`, but it hasn't been fit on any training data. Fit it first by calling `.fit(numpy_data)`.\n",
            "  warnings.warn('This ImageDataGenerator specifies '\n",
            "/usr/local/lib/python3.7/dist-packages/keras_preprocessing/image/image_data_generator.py:728: UserWarning: This ImageDataGenerator specifies `featurewise_std_normalization`, but it hasn't been fit on any training data. Fit it first by calling `.fit(numpy_data)`.\n",
            "  warnings.warn('This ImageDataGenerator specifies '\n"
          ]
        },
        {
          "name": "stdout",
          "output_type": "stream",
          "text": [
            "Data Augmentation for the /content/drive/MyDrive/Datasets/AVFER/train/happy is done!\n",
            "Generation of surprise samples with 4 copy...\n",
            "Data Augmentation parameters:\n",
            "Zoom Range: 0.6\n",
            "Brighness Range: (0.2, 0.8)\n",
            "Shift: (0.2,0.2)\n",
            "Rotation Degrees: 10\n",
            "Starting generation...\n",
            "Data Augmentation for the /content/drive/MyDrive/Datasets/AVFER/train/surprise is done!\n",
            "Generation of neutral samples with 3 copy...\n",
            "Data Augmentation parameters:\n",
            "Zoom Range: 0.6\n",
            "Brighness Range: (0.2, 0.8)\n",
            "Shift: (0.2,0.2)\n",
            "Rotation Degrees: 10\n",
            "Starting generation...\n",
            "Data Augmentation for the /content/drive/MyDrive/Datasets/AVFER/train/neutral is done!\n",
            "Generation of fear samples with 3 copy...\n",
            "Data Augmentation parameters:\n",
            "Zoom Range: 0.6\n",
            "Brighness Range: (0.2, 0.8)\n",
            "Shift: (0.2,0.2)\n",
            "Rotation Degrees: 10\n",
            "Starting generation...\n",
            "Data Augmentation for the /content/drive/MyDrive/Datasets/AVFER/train/fear is done!\n",
            "Generation of disgust samples with 11 copy...\n",
            "Data Augmentation parameters:\n",
            "Zoom Range: 0.6\n",
            "Brighness Range: (0.2, 0.8)\n",
            "Shift: (0.2,0.2)\n",
            "Rotation Degrees: 10\n",
            "Starting generation...\n",
            "Data Augmentation for the /content/drive/MyDrive/Datasets/AVFER/train/disgust is done!\n",
            "Generation of contempt samples with 18 copy...\n",
            "Data Augmentation parameters:\n",
            "Zoom Range: 0.6\n",
            "Brighness Range: (0.2, 0.8)\n",
            "Shift: (0.2,0.2)\n",
            "Rotation Degrees: 10\n",
            "Starting generation...\n",
            "Data Augmentation for the /content/drive/MyDrive/Datasets/AVFER/train/contempt is done!\n",
            "Generation of anger samples with 3 copy...\n",
            "Data Augmentation parameters:\n",
            "Zoom Range: 0.6\n",
            "Brighness Range: (0.2, 0.8)\n",
            "Shift: (0.2,0.2)\n",
            "Rotation Degrees: 10\n",
            "Starting generation...\n",
            "Data Augmentation for the /content/drive/MyDrive/Datasets/AVFER/train/anger is done!\n",
            "Generation of sad samples with 3 copy...\n",
            "Data Augmentation parameters:\n",
            "Zoom Range: 0.6\n",
            "Brighness Range: (0.2, 0.8)\n",
            "Shift: (0.2,0.2)\n",
            "Rotation Degrees: 10\n",
            "Starting generation...\n",
            "Data Augmentation for the /content/drive/MyDrive/Datasets/AVFER/train/sad is done!\n"
          ]
        }
      ],
      "source": [
        "for class_ in categories_data.keys():\n",
        "  print('Generation of {} samples with {} copy...'.format(class_, copies[class_]))\n",
        "  generator(\"/content/drive/MyDrive/Datasets/AVFER/train/\" + class_, \"jpg\", \"/content/drive/MyDrive/Datasets/AVFER/train/\" + class_ + \"/\", 0, num_augment=copies[class_])"
      ]
    },
    {
      "cell_type": "code",
      "execution_count": null,
      "metadata": {
        "id": "xAizLogZCaTs"
      },
      "outputs": [],
      "source": [
        "!rm -rf /content/drive/MyDrive/Datasets/VFER/\n",
        "!mkdir /content/drive/MyDrive/Datasets/VFER/\n",
        "!mkdir /content/drive/MyDrive/Datasets/VFER/train\n",
        "!mkdir /content/drive/MyDrive/Datasets/VFER/val\n",
        "!mkdir /content/drive/MyDrive/Datasets/VFER/test"
      ]
    },
    {
      "cell_type": "code",
      "execution_count": null,
      "metadata": {
        "id": "_6KYCkFTCqxY"
      },
      "outputs": [],
      "source": [
        "base_dir = \"/content/drive/MyDrive/Datasets/VFER/\"\n",
        "x = \"/content/drive/MyDrive/Datasets/AffectNet/train_class/\"\n",
        "subfolders = [el for el in os.listdir(base_dir)]\n",
        "classes = [cl for cl in os.listdir(x)]\n",
        "\n",
        "\n",
        "for cl in classes:\n",
        "  for folder in subfolders:\n",
        "    os.mkdir(base_dir  + folder + \"/\" + cl)"
      ]
    },
    {
      "cell_type": "code",
      "execution_count": null,
      "metadata": {
        "colab": {
          "base_uri": "https://localhost:8080/"
        },
        "id": "SY3hndzRCr_L",
        "outputId": "fb7f85b4-0242-4d5c-d6f8-e2aadb02a0c3"
      },
      "outputs": [
        {
          "name": "stdout",
          "output_type": "stream",
          "text": [
            "Start dataset copying...\n",
            "----------------------------------------\n",
            "Going in the subfolder train\n",
            "Going in the class train/happy\n",
            "Copied on happy\n",
            "Going in the class train/surprise\n",
            "Copied on surprise\n",
            "Going in the class train/neutral\n",
            "Copied on neutral\n",
            "Going in the class train/fear\n",
            "Copied on fear\n",
            "Going in the class train/disgust\n",
            "Copied on disgust\n",
            "Going in the class train/contempt\n",
            "Copied on contempt\n",
            "Going in the class train/anger\n",
            "Copied on anger\n",
            "Going in the class train/sad\n",
            "Copied on sad\n",
            "Going in the subfolder val\n",
            "Going in the class val/happy\n",
            "Copied on happy\n",
            "Going in the class val/surprise\n",
            "Copied on surprise\n",
            "Going in the class val/neutral\n",
            "Copied on neutral\n",
            "Going in the class val/fear\n",
            "Copied on fear\n",
            "Going in the class val/disgust\n",
            "Copied on disgust\n",
            "Going in the class val/contempt\n",
            "Copied on contempt\n",
            "Going in the class val/anger\n",
            "Copied on anger\n",
            "Going in the class val/sad\n",
            "Copied on sad\n",
            "Going in the class val/.ipynb_checkpoints\n",
            "Passing checkpoint files\n",
            "Going in the subfolder test\n",
            "Going in the class test/happy\n",
            "Copied on happy\n",
            "Going in the class test/surprise\n",
            "Copied on surprise\n",
            "Going in the class test/neutral\n",
            "Copied on neutral\n",
            "Going in the class test/fear\n",
            "Copied on fear\n",
            "Going in the class test/disgust\n",
            "Copied on disgust\n",
            "Going in the class test/contempt\n",
            "Copied on contempt\n",
            "Going in the class test/anger\n",
            "Copied on anger\n",
            "Going in the class test/sad\n",
            "Copied on sad\n",
            "Going in the class test/.ipynb_checkpoints\n",
            "Passing checkpoint files\n",
            "----------------------------------------\n",
            "Dump done.\n"
          ]
        }
      ],
      "source": [
        "import shutil\n",
        "# Dump balanced dataset to VFER from AVFER samples\n",
        "source_folder = r\"/content/drive/MyDrive/Datasets/AVFER/\"\n",
        "destination_folder = r\"/content/drive/MyDrive/Datasets/VFER/\"\n",
        "cap_class = 20000\n",
        "print('Start dataset copying...')\n",
        "print('-'*40)\n",
        "# fetch all files\n",
        "for subfolder in os.listdir(source_folder):\n",
        "  if subfolder == \".ipynb_checkpoints\":\n",
        "      print('Passing checkpoint files')\n",
        "      continue\n",
        "  print(\"Going in the subfolder {}\".format(subfolder))\n",
        "  for cl in os.listdir(source_folder + subfolder + \"/\"):\n",
        "    print(\"Going in the class {}/{}\".format(subfolder, cl))\n",
        "    if cl == \".ipynb_checkpoints\":\n",
        "      print('Passing checkpoint files')\n",
        "      continue\n",
        "    else:\n",
        "      counter_file = 0\n",
        "      for file_name in glob.glob(source_folder  + subfolder + \"/\" + cl + \"/*.jpg\"):\n",
        "        # construct full file path\n",
        "        source = source_folder + subfolder + \"/\" + cl + \"/\" + os.path.basename(file_name)\n",
        "        destination = destination_folder + subfolder + \"/\" + cl + \"/\" + os.path.basename(file_name)\n",
        "        # copy only files\n",
        "        if os.path.isfile(source) and counter_file < cap_class:\n",
        "          counter_file += 1\n",
        "          shutil.copy(source, destination)\n",
        "        if counter_file > cap_class:\n",
        "          break\n",
        "  \n",
        "      print('Copied on {}'.format(cl))\n",
        "\n",
        "print('-'*40)\n",
        "print('Dump done.')"
      ]
    },
    {
      "cell_type": "code",
      "execution_count": null,
      "metadata": {
        "colab": {
          "base_uri": "https://localhost:8080/",
          "height": 336
        },
        "id": "aeBpoe8wS0oF",
        "outputId": "59d09371-85a2-4af6-b861-88de6ec8ab65"
      },
      "outputs": [
        {
          "data": {
            "image/png": "[encoded data removed]",
            "text/plain": [
              "<Figure size 432x288 with 1 Axes>"
            ]
          },
          "metadata": {},
          "output_type": "display_data"
        }
      ],
      "source": [
        "plot_dataset(\"/content/drive/MyDrive/Datasets/VFER/train/*\")"
      ]
    },
    {
      "cell_type": "code",
      "execution_count": null,
      "metadata": {
        "colab": {
          "base_uri": "https://localhost:8080/",
          "height": 336
        },
        "id": "MDJwIdMfUtM6",
        "outputId": "08e585e2-5c73-47d0-cbf8-67e73a5ced6d"
      },
      "outputs": [
        {
          "data": {
            "image/png": "[encoded data removed]",
            "text/plain": [
              "<Figure size 432x288 with 1 Axes>"
            ]
          },
          "metadata": {},
          "output_type": "display_data"
        }
      ],
      "source": [
        "plot_dataset(\"/content/drive/MyDrive/Datasets/VFER/val/*\")"
      ]
    },
    {
      "cell_type": "code",
      "execution_count": null,
      "metadata": {
        "colab": {
          "base_uri": "https://localhost:8080/",
          "height": 336
        },
        "id": "zNoelELqUvzh",
        "outputId": "c2751cab-c857-46ca-8080-9b68f0356a36"
      },
      "outputs": [
        {
          "data": {
            "image/png": "[encoded data removed]",
            "text/plain": [
              "<Figure size 432x288 with 1 Axes>"
            ]
          },
          "metadata": {},
          "output_type": "display_data"
        }
      ],
      "source": [
        "plot_dataset(\"/content/drive/MyDrive/Datasets/VFER/test/*\")"
      ]
    },
    {
      "cell_type": "markdown",
      "metadata": {
        "id": "XKe2HHLkTNlM"
      },
      "source": [
        "## 6. Training Transformer"
      ]
    },
    {
      "cell_type": "code",
      "execution_count": null,
      "metadata": {
        "colab": {
          "base_uri": "https://localhost:8080/"
        },
        "id": "BItVISfStbBL",
        "outputId": "dc44e630-37c6-4630-bc10-bafd7ec211e0"
      },
      "outputs": [
        {
          "output_type": "stream",
          "name": "stdout",
          "text": [
            "Collecting timm\n",
            "  Downloading timm-0.5.4-py3-none-any.whl (431 kB)\n",
            "\u001b[?25l\r\u001b[K     |▊                               | 10 kB 41.8 MB/s eta 0:00:01\r\u001b[K     |█▌                              | 20 kB 46.9 MB/s eta 0:00:01\r\u001b[K     |██▎                             | 30 kB 50.9 MB/s eta 0:00:01\r\u001b[K     |███                             | 40 kB 34.6 MB/s eta 0:00:01\r\u001b[K     |███▉                            | 51 kB 37.4 MB/s eta 0:00:01\r\u001b[K     |████▋                           | 61 kB 40.9 MB/s eta 0:00:01\r\u001b[K     |█████▎                          | 71 kB 28.9 MB/s eta 0:00:01\r\u001b[K     |██████                          | 81 kB 30.7 MB/s eta 0:00:01\r\u001b[K     |██████▉                         | 92 kB 33.2 MB/s eta 0:00:01\r\u001b[K     |███████▋                        | 102 kB 34.6 MB/s eta 0:00:01\r\u001b[K     |████████▍                       | 112 kB 34.6 MB/s eta 0:00:01\r\u001b[K     |█████████▏                      | 122 kB 34.6 MB/s eta 0:00:01\r\u001b[K     |█████████▉                      | 133 kB 34.6 MB/s eta 0:00:01\r\u001b[K     |██████████▋                     | 143 kB 34.6 MB/s eta 0:00:01\r\u001b[K     |███████████▍                    | 153 kB 34.6 MB/s eta 0:00:01\r\u001b[K     |████████████▏                   | 163 kB 34.6 MB/s eta 0:00:01\r\u001b[K     |█████████████                   | 174 kB 34.6 MB/s eta 0:00:01\r\u001b[K     |█████████████▊                  | 184 kB 34.6 MB/s eta 0:00:01\r\u001b[K     |██████████████▍                 | 194 kB 34.6 MB/s eta 0:00:01\r\u001b[K     |███████████████▏                | 204 kB 34.6 MB/s eta 0:00:01\r\u001b[K     |████████████████                | 215 kB 34.6 MB/s eta 0:00:01\r\u001b[K     |████████████████▊               | 225 kB 34.6 MB/s eta 0:00:01\r\u001b[K     |█████████████████▌              | 235 kB 34.6 MB/s eta 0:00:01\r\u001b[K     |██████████████████▎             | 245 kB 34.6 MB/s eta 0:00:01\r\u001b[K     |███████████████████             | 256 kB 34.6 MB/s eta 0:00:01\r\u001b[K     |███████████████████▊            | 266 kB 34.6 MB/s eta 0:00:01\r\u001b[K     |████████████████████▌           | 276 kB 34.6 MB/s eta 0:00:01\r\u001b[K     |█████████████████████▎          | 286 kB 34.6 MB/s eta 0:00:01\r\u001b[K     |██████████████████████          | 296 kB 34.6 MB/s eta 0:00:01\r\u001b[K     |██████████████████████▉         | 307 kB 34.6 MB/s eta 0:00:01\r\u001b[K     |███████████████████████▌        | 317 kB 34.6 MB/s eta 0:00:01\r\u001b[K     |████████████████████████▎       | 327 kB 34.6 MB/s eta 0:00:01\r\u001b[K     |█████████████████████████       | 337 kB 34.6 MB/s eta 0:00:01\r\u001b[K     |█████████████████████████▉      | 348 kB 34.6 MB/s eta 0:00:01\r\u001b[K     |██████████████████████████▋     | 358 kB 34.6 MB/s eta 0:00:01\r\u001b[K     |███████████████████████████▍    | 368 kB 34.6 MB/s eta 0:00:01\r\u001b[K     |████████████████████████████    | 378 kB 34.6 MB/s eta 0:00:01\r\u001b[K     |████████████████████████████▉   | 389 kB 34.6 MB/s eta 0:00:01\r\u001b[K     |█████████████████████████████▋  | 399 kB 34.6 MB/s eta 0:00:01\r\u001b[K     |██████████████████████████████▍ | 409 kB 34.6 MB/s eta 0:00:01\r\u001b[K     |███████████████████████████████▏| 419 kB 34.6 MB/s eta 0:00:01\r\u001b[K     |████████████████████████████████| 430 kB 34.6 MB/s eta 0:00:01\r\u001b[K     |████████████████████████████████| 431 kB 34.6 MB/s \n",
            "\u001b[?25hRequirement already satisfied: torch>=1.4 in /usr/local/lib/python3.7/dist-packages (from timm) (1.11.0+cu113)\n",
            "Requirement already satisfied: torchvision in /usr/local/lib/python3.7/dist-packages (from timm) (0.12.0+cu113)\n",
            "Requirement already satisfied: typing-extensions in /usr/local/lib/python3.7/dist-packages (from torch>=1.4->timm) (4.2.0)\n",
            "Requirement already satisfied: requests in /usr/local/lib/python3.7/dist-packages (from torchvision->timm) (2.23.0)\n",
            "Requirement already satisfied: pillow!=8.3.*,>=5.3.0 in /usr/local/lib/python3.7/dist-packages (from torchvision->timm) (7.1.2)\n",
            "Requirement already satisfied: numpy in /usr/local/lib/python3.7/dist-packages (from torchvision->timm) (1.21.6)\n",
            "Requirement already satisfied: certifi>=2017.4.17 in /usr/local/lib/python3.7/dist-packages (from requests->torchvision->timm) (2021.10.8)\n",
            "Requirement already satisfied: idna<3,>=2.5 in /usr/local/lib/python3.7/dist-packages (from requests->torchvision->timm) (2.10)\n",
            "Requirement already satisfied: chardet<4,>=3.0.2 in /usr/local/lib/python3.7/dist-packages (from requests->torchvision->timm) (3.0.4)\n",
            "Requirement already satisfied: urllib3!=1.25.0,!=1.25.1,<1.26,>=1.21.1 in /usr/local/lib/python3.7/dist-packages (from requests->torchvision->timm) (1.24.3)\n",
            "Installing collected packages: timm\n",
            "Successfully installed timm-0.5.4\n"
          ]
        }
      ],
      "source": [
        "!pip install timm"
      ]
    },
    {
      "cell_type": "code",
      "execution_count": null,
      "metadata": {
        "id": "rZYiTth-y7yy"
      },
      "outputs": [],
      "source": [
        "import timm, torch, os\n",
        "from torchvision import datasets, models, transforms\n",
        "\n",
        "input_size = (224,224)\n",
        "batch_size = 60\n",
        "\n",
        "data_dir= \"/content/drive/MyDrive/Datasets/VFER/\""
      ]
    },
    {
      "cell_type": "code",
      "execution_count": null,
      "metadata": {
        "id": "yk-iKrzguAQR"
      },
      "outputs": [],
      "source": [
        "for fd in glob.glob(\"/content/drive/MyDrive/Datasets/VFER/*\"):\n",
        "  for cl in glob.glob(fd + \"/.*\"):\n",
        "    os.rmdir(cl)\n"
      ]
    },
    {
      "cell_type": "code",
      "execution_count": null,
      "metadata": {
        "colab": {
          "base_uri": "https://localhost:8080/"
        },
        "id": "MW0qScRotgal",
        "outputId": "19544a69-2df6-44bb-fe67-f9a29a091c63"
      },
      "outputs": [
        {
          "output_type": "stream",
          "name": "stdout",
          "text": [
            "Initializing Datasets and Dataloaders...\n"
          ]
        },
        {
          "output_type": "stream",
          "name": "stderr",
          "text": [
            "/usr/local/lib/python3.7/dist-packages/torch/utils/data/dataloader.py:490: UserWarning: This DataLoader will create 8 worker processes in total. Our suggested max number of worker in current system is 4, which is smaller than what this DataLoader is going to create. Please be aware that excessive worker creation might get DataLoader running slow or even freeze, lower the worker number to avoid potential slowness/freeze if necessary.\n",
            "  cpuset_checked))\n"
          ]
        }
      ],
      "source": [
        "data_transforms = {\n",
        "    'train': transforms.Compose([\n",
        "        transforms.RandomResizedCrop(input_size),\n",
        "        transforms.RandomHorizontalFlip(),\n",
        "        transforms.ToTensor(),\n",
        "        transforms.Normalize([0.5, 0.5, 0.5], [0.5, 0.5, 0.5])\n",
        "    ]),\n",
        "    'val': transforms.Compose([\n",
        "        transforms.Resize(input_size),\n",
        "        transforms.ToTensor(),\n",
        "        transforms.Normalize([0.5, 0.5, 0.5], [0.5, 0.5, 0.5])\n",
        "    ]),\n",
        "}\n",
        "# Detect if we have a GPU available\n",
        "device = torch.device(\"cuda:0\" if torch.cuda.is_available() else \"cpu\")\n",
        "\n",
        "\n",
        "print(\"Initializing Datasets and Dataloaders...\")\n",
        "\n",
        "# Create training and validation datasets\n",
        "image_datasets = {x: datasets.ImageFolder(os.path.join(data_dir, x), data_transforms[x]) for x in ['train', 'val']}\n",
        "\n",
        "# Create training and validation dataloaders\n",
        "dataloaders_dict = {x: torch.utils.data.DataLoader(image_datasets[x], batch_size=batch_size, shuffle=True, num_workers=8,pin_memory=True) for x in ['train', 'val']}"
      ]
    },
    {
      "cell_type": "code",
      "execution_count": null,
      "metadata": {
        "colab": {
          "base_uri": "https://localhost:8080/"
        },
        "id": "AkRMzh5uyj6n",
        "outputId": "bb3160e5-63b7-453c-a339-fe716076a3d2"
      },
      "outputs": [
        {
          "output_type": "stream",
          "name": "stdout",
          "text": [
            "PyTorch Version:  1.11.0+cu113\n",
            "Torchvision Version:  0.12.0+cu113\n"
          ]
        }
      ],
      "source": [
        "from __future__ import print_function\n",
        "from __future__ import division\n",
        "from torch.optim import lr_scheduler\n",
        "import torch.nn as nn\n",
        "import torch.optim as optim\n",
        "import numpy as np\n",
        "import torchvision\n",
        "import time\n",
        "import copy\n",
        "print(\"PyTorch Version: \",torch.__version__)\n",
        "print(\"Torchvision Version: \",torchvision.__version__)"
      ]
    },
    {
      "cell_type": "code",
      "execution_count": null,
      "metadata": {
        "id": "OY4wmSSvyR2r"
      },
      "outputs": [],
      "source": [
        "NUM_CLASSES = 8\n",
        "model = timm.create_model('vit_base_patch16_sam_224', pretrained=True)"
      ]
    },
    {
      "cell_type": "code",
      "execution_count": null,
      "metadata": {
        "colab": {
          "base_uri": "https://localhost:8080/"
        },
        "id": "kEh7xW8xycSX",
        "outputId": "356e58e1-9fa5-4a39-b736-c969be6eae5b"
      },
      "outputs": [
        {
          "output_type": "execute_result",
          "data": {
            "text/plain": [
              "VisionTransformer(\n",
              "  (patch_embed): PatchEmbed(\n",
              "    (proj): Conv2d(3, 768, kernel_size=(16, 16), stride=(16, 16))\n",
              "    (norm): Identity()\n",
              "  )\n",
              "  (pos_drop): Dropout(p=0.0, inplace=False)\n",
              "  (blocks): Sequential(\n",
              "    (0): Block(\n",
              "      (norm1): LayerNorm((768,), eps=1e-06, elementwise_affine=True)\n",
              "      (attn): Attention(\n",
              "        (qkv): Linear(in_features=768, out_features=2304, bias=True)\n",
              "        (attn_drop): Dropout(p=0.0, inplace=False)\n",
              "        (proj): Linear(in_features=768, out_features=768, bias=True)\n",
              "        (proj_drop): Dropout(p=0.0, inplace=False)\n",
              "      )\n",
              "      (drop_path): Identity()\n",
              "      (norm2): LayerNorm((768,), eps=1e-06, elementwise_affine=True)\n",
              "      (mlp): Mlp(\n",
              "        (fc1): Linear(in_features=768, out_features=3072, bias=True)\n",
              "        (act): GELU()\n",
              "        (drop1): Dropout(p=0.0, inplace=False)\n",
              "        (fc2): Linear(in_features=3072, out_features=768, bias=True)\n",
              "        (drop2): Dropout(p=0.0, inplace=False)\n",
              "      )\n",
              "    )\n",
              "    (1): Block(\n",
              "      (norm1): LayerNorm((768,), eps=1e-06, elementwise_affine=True)\n",
              "      (attn): Attention(\n",
              "        (qkv): Linear(in_features=768, out_features=2304, bias=True)\n",
              "        (attn_drop): Dropout(p=0.0, inplace=False)\n",
              "        (proj): Linear(in_features=768, out_features=768, bias=True)\n",
              "        (proj_drop): Dropout(p=0.0, inplace=False)\n",
              "      )\n",
              "      (drop_path): Identity()\n",
              "      (norm2): LayerNorm((768,), eps=1e-06, elementwise_affine=True)\n",
              "      (mlp): Mlp(\n",
              "        (fc1): Linear(in_features=768, out_features=3072, bias=True)\n",
              "        (act): GELU()\n",
              "        (drop1): Dropout(p=0.0, inplace=False)\n",
              "        (fc2): Linear(in_features=3072, out_features=768, bias=True)\n",
              "        (drop2): Dropout(p=0.0, inplace=False)\n",
              "      )\n",
              "    )\n",
              "    (2): Block(\n",
              "      (norm1): LayerNorm((768,), eps=1e-06, elementwise_affine=True)\n",
              "      (attn): Attention(\n",
              "        (qkv): Linear(in_features=768, out_features=2304, bias=True)\n",
              "        (attn_drop): Dropout(p=0.0, inplace=False)\n",
              "        (proj): Linear(in_features=768, out_features=768, bias=True)\n",
              "        (proj_drop): Dropout(p=0.0, inplace=False)\n",
              "      )\n",
              "      (drop_path): Identity()\n",
              "      (norm2): LayerNorm((768,), eps=1e-06, elementwise_affine=True)\n",
              "      (mlp): Mlp(\n",
              "        (fc1): Linear(in_features=768, out_features=3072, bias=True)\n",
              "        (act): GELU()\n",
              "        (drop1): Dropout(p=0.0, inplace=False)\n",
              "        (fc2): Linear(in_features=3072, out_features=768, bias=True)\n",
              "        (drop2): Dropout(p=0.0, inplace=False)\n",
              "      )\n",
              "    )\n",
              "    (3): Block(\n",
              "      (norm1): LayerNorm((768,), eps=1e-06, elementwise_affine=True)\n",
              "      (attn): Attention(\n",
              "        (qkv): Linear(in_features=768, out_features=2304, bias=True)\n",
              "        (attn_drop): Dropout(p=0.0, inplace=False)\n",
              "        (proj): Linear(in_features=768, out_features=768, bias=True)\n",
              "        (proj_drop): Dropout(p=0.0, inplace=False)\n",
              "      )\n",
              "      (drop_path): Identity()\n",
              "      (norm2): LayerNorm((768,), eps=1e-06, elementwise_affine=True)\n",
              "      (mlp): Mlp(\n",
              "        (fc1): Linear(in_features=768, out_features=3072, bias=True)\n",
              "        (act): GELU()\n",
              "        (drop1): Dropout(p=0.0, inplace=False)\n",
              "        (fc2): Linear(in_features=3072, out_features=768, bias=True)\n",
              "        (drop2): Dropout(p=0.0, inplace=False)\n",
              "      )\n",
              "    )\n",
              "    (4): Block(\n",
              "      (norm1): LayerNorm((768,), eps=1e-06, elementwise_affine=True)\n",
              "      (attn): Attention(\n",
              "        (qkv): Linear(in_features=768, out_features=2304, bias=True)\n",
              "        (attn_drop): Dropout(p=0.0, inplace=False)\n",
              "        (proj): Linear(in_features=768, out_features=768, bias=True)\n",
              "        (proj_drop): Dropout(p=0.0, inplace=False)\n",
              "      )\n",
              "      (drop_path): Identity()\n",
              "      (norm2): LayerNorm((768,), eps=1e-06, elementwise_affine=True)\n",
              "      (mlp): Mlp(\n",
              "        (fc1): Linear(in_features=768, out_features=3072, bias=True)\n",
              "        (act): GELU()\n",
              "        (drop1): Dropout(p=0.0, inplace=False)\n",
              "        (fc2): Linear(in_features=3072, out_features=768, bias=True)\n",
              "        (drop2): Dropout(p=0.0, inplace=False)\n",
              "      )\n",
              "    )\n",
              "    (5): Block(\n",
              "      (norm1): LayerNorm((768,), eps=1e-06, elementwise_affine=True)\n",
              "      (attn): Attention(\n",
              "        (qkv): Linear(in_features=768, out_features=2304, bias=True)\n",
              "        (attn_drop): Dropout(p=0.0, inplace=False)\n",
              "        (proj): Linear(in_features=768, out_features=768, bias=True)\n",
              "        (proj_drop): Dropout(p=0.0, inplace=False)\n",
              "      )\n",
              "      (drop_path): Identity()\n",
              "      (norm2): LayerNorm((768,), eps=1e-06, elementwise_affine=True)\n",
              "      (mlp): Mlp(\n",
              "        (fc1): Linear(in_features=768, out_features=3072, bias=True)\n",
              "        (act): GELU()\n",
              "        (drop1): Dropout(p=0.0, inplace=False)\n",
              "        (fc2): Linear(in_features=3072, out_features=768, bias=True)\n",
              "        (drop2): Dropout(p=0.0, inplace=False)\n",
              "      )\n",
              "    )\n",
              "    (6): Block(\n",
              "      (norm1): LayerNorm((768,), eps=1e-06, elementwise_affine=True)\n",
              "      (attn): Attention(\n",
              "        (qkv): Linear(in_features=768, out_features=2304, bias=True)\n",
              "        (attn_drop): Dropout(p=0.0, inplace=False)\n",
              "        (proj): Linear(in_features=768, out_features=768, bias=True)\n",
              "        (proj_drop): Dropout(p=0.0, inplace=False)\n",
              "      )\n",
              "      (drop_path): Identity()\n",
              "      (norm2): LayerNorm((768,), eps=1e-06, elementwise_affine=True)\n",
              "      (mlp): Mlp(\n",
              "        (fc1): Linear(in_features=768, out_features=3072, bias=True)\n",
              "        (act): GELU()\n",
              "        (drop1): Dropout(p=0.0, inplace=False)\n",
              "        (fc2): Linear(in_features=3072, out_features=768, bias=True)\n",
              "        (drop2): Dropout(p=0.0, inplace=False)\n",
              "      )\n",
              "    )\n",
              "    (7): Block(\n",
              "      (norm1): LayerNorm((768,), eps=1e-06, elementwise_affine=True)\n",
              "      (attn): Attention(\n",
              "        (qkv): Linear(in_features=768, out_features=2304, bias=True)\n",
              "        (attn_drop): Dropout(p=0.0, inplace=False)\n",
              "        (proj): Linear(in_features=768, out_features=768, bias=True)\n",
              "        (proj_drop): Dropout(p=0.0, inplace=False)\n",
              "      )\n",
              "      (drop_path): Identity()\n",
              "      (norm2): LayerNorm((768,), eps=1e-06, elementwise_affine=True)\n",
              "      (mlp): Mlp(\n",
              "        (fc1): Linear(in_features=768, out_features=3072, bias=True)\n",
              "        (act): GELU()\n",
              "        (drop1): Dropout(p=0.0, inplace=False)\n",
              "        (fc2): Linear(in_features=3072, out_features=768, bias=True)\n",
              "        (drop2): Dropout(p=0.0, inplace=False)\n",
              "      )\n",
              "    )\n",
              "    (8): Block(\n",
              "      (norm1): LayerNorm((768,), eps=1e-06, elementwise_affine=True)\n",
              "      (attn): Attention(\n",
              "        (qkv): Linear(in_features=768, out_features=2304, bias=True)\n",
              "        (attn_drop): Dropout(p=0.0, inplace=False)\n",
              "        (proj): Linear(in_features=768, out_features=768, bias=True)\n",
              "        (proj_drop): Dropout(p=0.0, inplace=False)\n",
              "      )\n",
              "      (drop_path): Identity()\n",
              "      (norm2): LayerNorm((768,), eps=1e-06, elementwise_affine=True)\n",
              "      (mlp): Mlp(\n",
              "        (fc1): Linear(in_features=768, out_features=3072, bias=True)\n",
              "        (act): GELU()\n",
              "        (drop1): Dropout(p=0.0, inplace=False)\n",
              "        (fc2): Linear(in_features=3072, out_features=768, bias=True)\n",
              "        (drop2): Dropout(p=0.0, inplace=False)\n",
              "      )\n",
              "    )\n",
              "    (9): Block(\n",
              "      (norm1): LayerNorm((768,), eps=1e-06, elementwise_affine=True)\n",
              "      (attn): Attention(\n",
              "        (qkv): Linear(in_features=768, out_features=2304, bias=True)\n",
              "        (attn_drop): Dropout(p=0.0, inplace=False)\n",
              "        (proj): Linear(in_features=768, out_features=768, bias=True)\n",
              "        (proj_drop): Dropout(p=0.0, inplace=False)\n",
              "      )\n",
              "      (drop_path): Identity()\n",
              "      (norm2): LayerNorm((768,), eps=1e-06, elementwise_affine=True)\n",
              "      (mlp): Mlp(\n",
              "        (fc1): Linear(in_features=768, out_features=3072, bias=True)\n",
              "        (act): GELU()\n",
              "        (drop1): Dropout(p=0.0, inplace=False)\n",
              "        (fc2): Linear(in_features=3072, out_features=768, bias=True)\n",
              "        (drop2): Dropout(p=0.0, inplace=False)\n",
              "      )\n",
              "    )\n",
              "    (10): Block(\n",
              "      (norm1): LayerNorm((768,), eps=1e-06, elementwise_affine=True)\n",
              "      (attn): Attention(\n",
              "        (qkv): Linear(in_features=768, out_features=2304, bias=True)\n",
              "        (attn_drop): Dropout(p=0.0, inplace=False)\n",
              "        (proj): Linear(in_features=768, out_features=768, bias=True)\n",
              "        (proj_drop): Dropout(p=0.0, inplace=False)\n",
              "      )\n",
              "      (drop_path): Identity()\n",
              "      (norm2): LayerNorm((768,), eps=1e-06, elementwise_affine=True)\n",
              "      (mlp): Mlp(\n",
              "        (fc1): Linear(in_features=768, out_features=3072, bias=True)\n",
              "        (act): GELU()\n",
              "        (drop1): Dropout(p=0.0, inplace=False)\n",
              "        (fc2): Linear(in_features=3072, out_features=768, bias=True)\n",
              "        (drop2): Dropout(p=0.0, inplace=False)\n",
              "      )\n",
              "    )\n",
              "    (11): Block(\n",
              "      (norm1): LayerNorm((768,), eps=1e-06, elementwise_affine=True)\n",
              "      (attn): Attention(\n",
              "        (qkv): Linear(in_features=768, out_features=2304, bias=True)\n",
              "        (attn_drop): Dropout(p=0.0, inplace=False)\n",
              "        (proj): Linear(in_features=768, out_features=768, bias=True)\n",
              "        (proj_drop): Dropout(p=0.0, inplace=False)\n",
              "      )\n",
              "      (drop_path): Identity()\n",
              "      (norm2): LayerNorm((768,), eps=1e-06, elementwise_affine=True)\n",
              "      (mlp): Mlp(\n",
              "        (fc1): Linear(in_features=768, out_features=3072, bias=True)\n",
              "        (act): GELU()\n",
              "        (drop1): Dropout(p=0.0, inplace=False)\n",
              "        (fc2): Linear(in_features=3072, out_features=768, bias=True)\n",
              "        (drop2): Dropout(p=0.0, inplace=False)\n",
              "      )\n",
              "    )\n",
              "  )\n",
              "  (norm): LayerNorm((768,), eps=1e-06, elementwise_affine=True)\n",
              "  (pre_logits): Identity()\n",
              "  (head): Linear(in_features=768, out_features=1000, bias=True)\n",
              ")"
            ]
          },
          "metadata": {},
          "execution_count": 14
        }
      ],
      "source": [
        "model.eval()"
      ]
    },
    {
      "cell_type": "code",
      "execution_count": null,
      "metadata": {
        "colab": {
          "base_uri": "https://localhost:8080/"
        },
        "id": "co_WIrPEyeGx",
        "outputId": "5c8bd4b4-2f02-4645-e196-1353357d5ef0"
      },
      "outputs": [
        {
          "output_type": "execute_result",
          "data": {
            "text/plain": [
              "VisionTransformer(\n",
              "  (patch_embed): PatchEmbed(\n",
              "    (proj): Conv2d(3, 768, kernel_size=(16, 16), stride=(16, 16))\n",
              "    (norm): Identity()\n",
              "  )\n",
              "  (pos_drop): Dropout(p=0.0, inplace=False)\n",
              "  (blocks): Sequential(\n",
              "    (0): Block(\n",
              "      (norm1): LayerNorm((768,), eps=1e-06, elementwise_affine=True)\n",
              "      (attn): Attention(\n",
              "        (qkv): Linear(in_features=768, out_features=2304, bias=True)\n",
              "        (attn_drop): Dropout(p=0.0, inplace=False)\n",
              "        (proj): Linear(in_features=768, out_features=768, bias=True)\n",
              "        (proj_drop): Dropout(p=0.0, inplace=False)\n",
              "      )\n",
              "      (drop_path): Identity()\n",
              "      (norm2): LayerNorm((768,), eps=1e-06, elementwise_affine=True)\n",
              "      (mlp): Mlp(\n",
              "        (fc1): Linear(in_features=768, out_features=3072, bias=True)\n",
              "        (act): GELU()\n",
              "        (drop1): Dropout(p=0.0, inplace=False)\n",
              "        (fc2): Linear(in_features=3072, out_features=768, bias=True)\n",
              "        (drop2): Dropout(p=0.0, inplace=False)\n",
              "      )\n",
              "    )\n",
              "    (1): Block(\n",
              "      (norm1): LayerNorm((768,), eps=1e-06, elementwise_affine=True)\n",
              "      (attn): Attention(\n",
              "        (qkv): Linear(in_features=768, out_features=2304, bias=True)\n",
              "        (attn_drop): Dropout(p=0.0, inplace=False)\n",
              "        (proj): Linear(in_features=768, out_features=768, bias=True)\n",
              "        (proj_drop): Dropout(p=0.0, inplace=False)\n",
              "      )\n",
              "      (drop_path): Identity()\n",
              "      (norm2): LayerNorm((768,), eps=1e-06, elementwise_affine=True)\n",
              "      (mlp): Mlp(\n",
              "        (fc1): Linear(in_features=768, out_features=3072, bias=True)\n",
              "        (act): GELU()\n",
              "        (drop1): Dropout(p=0.0, inplace=False)\n",
              "        (fc2): Linear(in_features=3072, out_features=768, bias=True)\n",
              "        (drop2): Dropout(p=0.0, inplace=False)\n",
              "      )\n",
              "    )\n",
              "    (2): Block(\n",
              "      (norm1): LayerNorm((768,), eps=1e-06, elementwise_affine=True)\n",
              "      (attn): Attention(\n",
              "        (qkv): Linear(in_features=768, out_features=2304, bias=True)\n",
              "        (attn_drop): Dropout(p=0.0, inplace=False)\n",
              "        (proj): Linear(in_features=768, out_features=768, bias=True)\n",
              "        (proj_drop): Dropout(p=0.0, inplace=False)\n",
              "      )\n",
              "      (drop_path): Identity()\n",
              "      (norm2): LayerNorm((768,), eps=1e-06, elementwise_affine=True)\n",
              "      (mlp): Mlp(\n",
              "        (fc1): Linear(in_features=768, out_features=3072, bias=True)\n",
              "        (act): GELU()\n",
              "        (drop1): Dropout(p=0.0, inplace=False)\n",
              "        (fc2): Linear(in_features=3072, out_features=768, bias=True)\n",
              "        (drop2): Dropout(p=0.0, inplace=False)\n",
              "      )\n",
              "    )\n",
              "    (3): Block(\n",
              "      (norm1): LayerNorm((768,), eps=1e-06, elementwise_affine=True)\n",
              "      (attn): Attention(\n",
              "        (qkv): Linear(in_features=768, out_features=2304, bias=True)\n",
              "        (attn_drop): Dropout(p=0.0, inplace=False)\n",
              "        (proj): Linear(in_features=768, out_features=768, bias=True)\n",
              "        (proj_drop): Dropout(p=0.0, inplace=False)\n",
              "      )\n",
              "      (drop_path): Identity()\n",
              "      (norm2): LayerNorm((768,), eps=1e-06, elementwise_affine=True)\n",
              "      (mlp): Mlp(\n",
              "        (fc1): Linear(in_features=768, out_features=3072, bias=True)\n",
              "        (act): GELU()\n",
              "        (drop1): Dropout(p=0.0, inplace=False)\n",
              "        (fc2): Linear(in_features=3072, out_features=768, bias=True)\n",
              "        (drop2): Dropout(p=0.0, inplace=False)\n",
              "      )\n",
              "    )\n",
              "    (4): Block(\n",
              "      (norm1): LayerNorm((768,), eps=1e-06, elementwise_affine=True)\n",
              "      (attn): Attention(\n",
              "        (qkv): Linear(in_features=768, out_features=2304, bias=True)\n",
              "        (attn_drop): Dropout(p=0.0, inplace=False)\n",
              "        (proj): Linear(in_features=768, out_features=768, bias=True)\n",
              "        (proj_drop): Dropout(p=0.0, inplace=False)\n",
              "      )\n",
              "      (drop_path): Identity()\n",
              "      (norm2): LayerNorm((768,), eps=1e-06, elementwise_affine=True)\n",
              "      (mlp): Mlp(\n",
              "        (fc1): Linear(in_features=768, out_features=3072, bias=True)\n",
              "        (act): GELU()\n",
              "        (drop1): Dropout(p=0.0, inplace=False)\n",
              "        (fc2): Linear(in_features=3072, out_features=768, bias=True)\n",
              "        (drop2): Dropout(p=0.0, inplace=False)\n",
              "      )\n",
              "    )\n",
              "    (5): Block(\n",
              "      (norm1): LayerNorm((768,), eps=1e-06, elementwise_affine=True)\n",
              "      (attn): Attention(\n",
              "        (qkv): Linear(in_features=768, out_features=2304, bias=True)\n",
              "        (attn_drop): Dropout(p=0.0, inplace=False)\n",
              "        (proj): Linear(in_features=768, out_features=768, bias=True)\n",
              "        (proj_drop): Dropout(p=0.0, inplace=False)\n",
              "      )\n",
              "      (drop_path): Identity()\n",
              "      (norm2): LayerNorm((768,), eps=1e-06, elementwise_affine=True)\n",
              "      (mlp): Mlp(\n",
              "        (fc1): Linear(in_features=768, out_features=3072, bias=True)\n",
              "        (act): GELU()\n",
              "        (drop1): Dropout(p=0.0, inplace=False)\n",
              "        (fc2): Linear(in_features=3072, out_features=768, bias=True)\n",
              "        (drop2): Dropout(p=0.0, inplace=False)\n",
              "      )\n",
              "    )\n",
              "    (6): Block(\n",
              "      (norm1): LayerNorm((768,), eps=1e-06, elementwise_affine=True)\n",
              "      (attn): Attention(\n",
              "        (qkv): Linear(in_features=768, out_features=2304, bias=True)\n",
              "        (attn_drop): Dropout(p=0.0, inplace=False)\n",
              "        (proj): Linear(in_features=768, out_features=768, bias=True)\n",
              "        (proj_drop): Dropout(p=0.0, inplace=False)\n",
              "      )\n",
              "      (drop_path): Identity()\n",
              "      (norm2): LayerNorm((768,), eps=1e-06, elementwise_affine=True)\n",
              "      (mlp): Mlp(\n",
              "        (fc1): Linear(in_features=768, out_features=3072, bias=True)\n",
              "        (act): GELU()\n",
              "        (drop1): Dropout(p=0.0, inplace=False)\n",
              "        (fc2): Linear(in_features=3072, out_features=768, bias=True)\n",
              "        (drop2): Dropout(p=0.0, inplace=False)\n",
              "      )\n",
              "    )\n",
              "    (7): Block(\n",
              "      (norm1): LayerNorm((768,), eps=1e-06, elementwise_affine=True)\n",
              "      (attn): Attention(\n",
              "        (qkv): Linear(in_features=768, out_features=2304, bias=True)\n",
              "        (attn_drop): Dropout(p=0.0, inplace=False)\n",
              "        (proj): Linear(in_features=768, out_features=768, bias=True)\n",
              "        (proj_drop): Dropout(p=0.0, inplace=False)\n",
              "      )\n",
              "      (drop_path): Identity()\n",
              "      (norm2): LayerNorm((768,), eps=1e-06, elementwise_affine=True)\n",
              "      (mlp): Mlp(\n",
              "        (fc1): Linear(in_features=768, out_features=3072, bias=True)\n",
              "        (act): GELU()\n",
              "        (drop1): Dropout(p=0.0, inplace=False)\n",
              "        (fc2): Linear(in_features=3072, out_features=768, bias=True)\n",
              "        (drop2): Dropout(p=0.0, inplace=False)\n",
              "      )\n",
              "    )\n",
              "    (8): Block(\n",
              "      (norm1): LayerNorm((768,), eps=1e-06, elementwise_affine=True)\n",
              "      (attn): Attention(\n",
              "        (qkv): Linear(in_features=768, out_features=2304, bias=True)\n",
              "        (attn_drop): Dropout(p=0.0, inplace=False)\n",
              "        (proj): Linear(in_features=768, out_features=768, bias=True)\n",
              "        (proj_drop): Dropout(p=0.0, inplace=False)\n",
              "      )\n",
              "      (drop_path): Identity()\n",
              "      (norm2): LayerNorm((768,), eps=1e-06, elementwise_affine=True)\n",
              "      (mlp): Mlp(\n",
              "        (fc1): Linear(in_features=768, out_features=3072, bias=True)\n",
              "        (act): GELU()\n",
              "        (drop1): Dropout(p=0.0, inplace=False)\n",
              "        (fc2): Linear(in_features=3072, out_features=768, bias=True)\n",
              "        (drop2): Dropout(p=0.0, inplace=False)\n",
              "      )\n",
              "    )\n",
              "    (9): Block(\n",
              "      (norm1): LayerNorm((768,), eps=1e-06, elementwise_affine=True)\n",
              "      (attn): Attention(\n",
              "        (qkv): Linear(in_features=768, out_features=2304, bias=True)\n",
              "        (attn_drop): Dropout(p=0.0, inplace=False)\n",
              "        (proj): Linear(in_features=768, out_features=768, bias=True)\n",
              "        (proj_drop): Dropout(p=0.0, inplace=False)\n",
              "      )\n",
              "      (drop_path): Identity()\n",
              "      (norm2): LayerNorm((768,), eps=1e-06, elementwise_affine=True)\n",
              "      (mlp): Mlp(\n",
              "        (fc1): Linear(in_features=768, out_features=3072, bias=True)\n",
              "        (act): GELU()\n",
              "        (drop1): Dropout(p=0.0, inplace=False)\n",
              "        (fc2): Linear(in_features=3072, out_features=768, bias=True)\n",
              "        (drop2): Dropout(p=0.0, inplace=False)\n",
              "      )\n",
              "    )\n",
              "    (10): Block(\n",
              "      (norm1): LayerNorm((768,), eps=1e-06, elementwise_affine=True)\n",
              "      (attn): Attention(\n",
              "        (qkv): Linear(in_features=768, out_features=2304, bias=True)\n",
              "        (attn_drop): Dropout(p=0.0, inplace=False)\n",
              "        (proj): Linear(in_features=768, out_features=768, bias=True)\n",
              "        (proj_drop): Dropout(p=0.0, inplace=False)\n",
              "      )\n",
              "      (drop_path): Identity()\n",
              "      (norm2): LayerNorm((768,), eps=1e-06, elementwise_affine=True)\n",
              "      (mlp): Mlp(\n",
              "        (fc1): Linear(in_features=768, out_features=3072, bias=True)\n",
              "        (act): GELU()\n",
              "        (drop1): Dropout(p=0.0, inplace=False)\n",
              "        (fc2): Linear(in_features=3072, out_features=768, bias=True)\n",
              "        (drop2): Dropout(p=0.0, inplace=False)\n",
              "      )\n",
              "    )\n",
              "    (11): Block(\n",
              "      (norm1): LayerNorm((768,), eps=1e-06, elementwise_affine=True)\n",
              "      (attn): Attention(\n",
              "        (qkv): Linear(in_features=768, out_features=2304, bias=True)\n",
              "        (attn_drop): Dropout(p=0.0, inplace=False)\n",
              "        (proj): Linear(in_features=768, out_features=768, bias=True)\n",
              "        (proj_drop): Dropout(p=0.0, inplace=False)\n",
              "      )\n",
              "      (drop_path): Identity()\n",
              "      (norm2): LayerNorm((768,), eps=1e-06, elementwise_affine=True)\n",
              "      (mlp): Mlp(\n",
              "        (fc1): Linear(in_features=768, out_features=3072, bias=True)\n",
              "        (act): GELU()\n",
              "        (drop1): Dropout(p=0.0, inplace=False)\n",
              "        (fc2): Linear(in_features=3072, out_features=768, bias=True)\n",
              "        (drop2): Dropout(p=0.0, inplace=False)\n",
              "      )\n",
              "    )\n",
              "  )\n",
              "  (norm): LayerNorm((768,), eps=1e-06, elementwise_affine=True)\n",
              "  (pre_logits): Identity()\n",
              "  (head): Linear(in_features=768, out_features=8, bias=True)\n",
              ")"
            ]
          },
          "metadata": {},
          "execution_count": 15
        }
      ],
      "source": [
        "model.head = nn.Linear(768, NUM_CLASSES)\n",
        "model.eval()"
      ]
    },
    {
      "cell_type": "code",
      "execution_count": null,
      "metadata": {
        "id": "MfPgq1CyyuRW"
      },
      "outputs": [],
      "source": [
        "import pickle, sys\n",
        "\n",
        "\n",
        "def save_history(history, filename):\n",
        "  if os.path.isfile(filename):\n",
        "    os.remove(filename)\n",
        "  file_handler = open(filename + \".pkl\", \"wb\")\n",
        "  pickle.dump(history, file_handler)\n",
        "  file_handler.close()\n",
        "\n",
        "\n",
        "def load_history(filename):\n",
        "  file_handler = open(filename + \".pkl\", \"rb\")\n",
        "  output = pickle.load(file_handler)\n",
        "  file_handler.close()\n",
        "  return output\n",
        "\n",
        "\n",
        "def train_model(model, dataloaders, criterion, optimizer,lr_scheduler, num_epochs=25, is_inception=False, \n",
        "                is_loaded = False, load_state_ws=None, history_file_acc=\"history_accuracy\",\n",
        "                history_file_loss=\"history_loss\", n_partial=0, model_folder=\"\", ):\n",
        "    \n",
        "    history = {'val' : [], 'train' : []}\n",
        "    loss_history = {'val' : [], 'train' : []}\n",
        "\n",
        "    if is_loaded and load_state_ws != None:\n",
        "      # load the model\n",
        "      state_dict = torch.load(load_state_ws)\n",
        "      model.load_state_dict(state_dict)\n",
        "      model.eval()\n",
        "      print('Model loaded correctly')\n",
        "      # history = load_history(history_file_acc)\n",
        "      # loss_history = load_history(history_file_loss)\n",
        "      # print('History loaded')\n",
        "\n",
        "    \n",
        "    print('Starting Training')\n",
        "    print('-' * 12)\n",
        "\n",
        "    since = time.time()\n",
        "\n",
        "    best_model_wts = copy.deepcopy(model.state_dict())\n",
        "    best_acc = 0.0\n",
        "    for epoch in range(num_epochs):\n",
        "        epoch_since = time.time()\n",
        "        print(f'Epoch {epoch + 1}/{num_epochs}')\n",
        "        print('-' * 12)\n",
        "        # Each epoch has a training and validation phase\n",
        "        for phase in ['train', 'val']:\n",
        "            total = len(dataloaders[phase])\n",
        "            current = 0\n",
        "            if phase == 'train':\n",
        "                model.train()  # Set model to training mode\n",
        "            else:\n",
        "                model.eval()   # Set model to evaluate mode\n",
        "\n",
        "            running_loss = 0.0\n",
        "            running_corrects = 0\n",
        "\n",
        "            dl = dataloaders[phase]\n",
        "            totalIm=0\n",
        "            # Iterate over data.\n",
        "            for inputs, labels in dl:\n",
        "                totalIm+=len(inputs)\n",
        "                inputs = inputs.to(device)\n",
        "                labels = labels.to(device)\n",
        "\n",
        "                # zero the parameter gradients\n",
        "                optimizer.zero_grad()\n",
        "\n",
        "                # forward\n",
        "                # track history if only in train\n",
        "                with torch.set_grad_enabled(phase == 'train'):\n",
        "                    # Get model outputs and calculate loss\n",
        "                      outputs = model(inputs)\n",
        "                      loss = criterion(outputs, labels)\n",
        "\n",
        "                      _, preds = torch.max(outputs, 1)\n",
        "\n",
        "                    # backward + optimize only if in training phase\n",
        "                      if phase == 'train':\n",
        "                        loss.backward()\n",
        "                        if type(optimizer) != SAM:\n",
        "                          optimizer.step()\n",
        "                        else:\n",
        "                          def closure():\n",
        "                            outputs = model(inputs)\n",
        "                            _, preds = torch.max(outputs, 1)\n",
        "                            loss = criterion(outputs, labels)\n",
        "                            loss.backward()\n",
        "                            return loss\n",
        "                \n",
        "                        optimizer.step(closure)\n",
        "\n",
        "                        \n",
        "\n",
        "                # statistics\n",
        "                running_loss += loss.item() * inputs.size(0)\n",
        "                running_corrects += torch.sum(preds == labels.data)\n",
        "                epoch_loss = running_loss / totalIm\n",
        "                epoch_acc = running_corrects.double() / totalIm\n",
        "                # status update\n",
        "                current += 1\n",
        "                sys.stdout.write(\"\\r\" + f\"{epoch + 1}/{num_epochs} - {phase} step : \" + str(current * batch_size) + \"/\" +  str(total * batch_size) + \" - \" + \n",
        "                                 \"{}_accuracy : \".format(phase) + \"{:4f}\".format(epoch_acc) + \" - {}_loss : \".format(phase) + \"{:4f}\".format(epoch_loss))\n",
        "                sys.stdout.flush()\n",
        "            epoch_loss = running_loss / totalIm\n",
        "            epoch_acc = running_corrects.double() / totalIm\n",
        "            print() # avoid result cleaning \n",
        "            if phase == 'train':\n",
        "              history['train'].append(epoch_acc)\n",
        "              loss_history['train'].append(epoch_loss)\n",
        "\n",
        "            # deep copy the model only in case the accusary is better in evaluation (local optima)\n",
        "            local_optima = False\n",
        "            if phase == 'val' and epoch_acc > best_acc:\n",
        "                best_acc = epoch_acc\n",
        "                best_model_wts = copy.deepcopy(model.state_dict())\n",
        "                local_optima = True\n",
        "            if phase == 'val':\n",
        "                history['val'].append(epoch_acc)\n",
        "                loss_history['val'].append(epoch_loss)\n",
        "\n",
        "        # Increases the internal counter\n",
        "        if lr_scheduler:            \n",
        "            lr_scheduler.step()            \n",
        "        lr = optimizer.param_groups[0]['lr']\n",
        "        interval_epoch = time.time() - epoch_since \n",
        "        print('\\nEpoch {} complete in. {:.0f}m {:.0f}s {} and with a learning rate of {}'.format(epoch + 1, interval_epoch // 60, interval_epoch % 60, \"with best local accuracy\" if local_optima else \"\",lr))\n",
        "        save_history(loss_history, model_folder + os.path.basename(model_folder) + \"_\" + history_file_loss)\n",
        "        \n",
        "        torch.save(model.state_dict(), model_folder + \"epoch_{}_{}\".format(epoch + 1, os.path.basename(model_folder[:len(model_folder) - 1])))\n",
        "        print(\"-\" * 12)\n",
        "\n",
        "    time_elapsed = time.time() - since\n",
        "    print('Training complete in {:.0f}m {:.0f}s'.format(time_elapsed // 60, time_elapsed % 60))\n",
        "    print('Best val accuracy: {:4f}'.format(best_acc))\n",
        "\n",
        "    # load best model weights\n",
        "    model.load_state_dict(best_model_wts)\n",
        "    return model, history['train'], history['val']"
      ]
    },
    {
      "cell_type": "code",
      "source": [
        "!git clone https://github.com/davda54/sam.git"
      ],
      "metadata": {
        "colab": {
          "base_uri": "https://localhost:8080/"
        },
        "id": "BfLdUVTVLFav",
        "outputId": "cfabc513-9bec-409c-a34c-c2c98d948c3b"
      },
      "execution_count": null,
      "outputs": [
        {
          "output_type": "stream",
          "name": "stdout",
          "text": [
            "Cloning into 'sam'...\n",
            "remote: Enumerating objects: 179, done.\u001b[K\n",
            "remote: Counting objects: 100% (75/75), done.\u001b[K\n",
            "remote: Compressing objects: 100% (22/22), done.\u001b[K\n",
            "remote: Total 179 (delta 62), reused 53 (delta 53), pack-reused 104\u001b[K\n",
            "Receiving objects: 100% (179/179), 650.16 KiB | 710.00 KiB/s, done.\n",
            "Resolving deltas: 100% (84/84), done.\n"
          ]
        }
      ]
    },
    {
      "cell_type": "code",
      "source": [
        "optimizer_set = \"SAM\""
      ],
      "metadata": {
        "id": "DmRq96ZqLHhy"
      },
      "execution_count": null,
      "outputs": []
    },
    {
      "cell_type": "code",
      "execution_count": null,
      "metadata": {
        "colab": {
          "base_uri": "https://localhost:8080/"
        },
        "id": "Ug7mEpCZzD6L",
        "outputId": "3307c41b-c71a-4b13-bf44-1b6c9f416b32"
      },
      "outputs": [
        {
          "output_type": "stream",
          "name": "stdout",
          "text": [
            "cuda:0\n",
            "Params to learn:\n",
            "\t cls_token\n",
            "\t pos_embed\n",
            "\t patch_embed.proj.weight\n",
            "\t patch_embed.proj.bias\n",
            "\t blocks.0.norm1.weight\n",
            "\t blocks.0.norm1.bias\n",
            "\t blocks.0.attn.qkv.weight\n",
            "\t blocks.0.attn.qkv.bias\n",
            "\t blocks.0.attn.proj.weight\n",
            "\t blocks.0.attn.proj.bias\n",
            "\t blocks.0.norm2.weight\n",
            "\t blocks.0.norm2.bias\n",
            "\t blocks.0.mlp.fc1.weight\n",
            "\t blocks.0.mlp.fc1.bias\n",
            "\t blocks.0.mlp.fc2.weight\n",
            "\t blocks.0.mlp.fc2.bias\n",
            "\t blocks.1.norm1.weight\n",
            "\t blocks.1.norm1.bias\n",
            "\t blocks.1.attn.qkv.weight\n",
            "\t blocks.1.attn.qkv.bias\n",
            "\t blocks.1.attn.proj.weight\n",
            "\t blocks.1.attn.proj.bias\n",
            "\t blocks.1.norm2.weight\n",
            "\t blocks.1.norm2.bias\n",
            "\t blocks.1.mlp.fc1.weight\n",
            "\t blocks.1.mlp.fc1.bias\n",
            "\t blocks.1.mlp.fc2.weight\n",
            "\t blocks.1.mlp.fc2.bias\n",
            "\t blocks.2.norm1.weight\n",
            "\t blocks.2.norm1.bias\n",
            "\t blocks.2.attn.qkv.weight\n",
            "\t blocks.2.attn.qkv.bias\n",
            "\t blocks.2.attn.proj.weight\n",
            "\t blocks.2.attn.proj.bias\n",
            "\t blocks.2.norm2.weight\n",
            "\t blocks.2.norm2.bias\n",
            "\t blocks.2.mlp.fc1.weight\n",
            "\t blocks.2.mlp.fc1.bias\n",
            "\t blocks.2.mlp.fc2.weight\n",
            "\t blocks.2.mlp.fc2.bias\n",
            "\t blocks.3.norm1.weight\n",
            "\t blocks.3.norm1.bias\n",
            "\t blocks.3.attn.qkv.weight\n",
            "\t blocks.3.attn.qkv.bias\n",
            "\t blocks.3.attn.proj.weight\n",
            "\t blocks.3.attn.proj.bias\n",
            "\t blocks.3.norm2.weight\n",
            "\t blocks.3.norm2.bias\n",
            "\t blocks.3.mlp.fc1.weight\n",
            "\t blocks.3.mlp.fc1.bias\n",
            "\t blocks.3.mlp.fc2.weight\n",
            "\t blocks.3.mlp.fc2.bias\n",
            "\t blocks.4.norm1.weight\n",
            "\t blocks.4.norm1.bias\n",
            "\t blocks.4.attn.qkv.weight\n",
            "\t blocks.4.attn.qkv.bias\n",
            "\t blocks.4.attn.proj.weight\n",
            "\t blocks.4.attn.proj.bias\n",
            "\t blocks.4.norm2.weight\n",
            "\t blocks.4.norm2.bias\n",
            "\t blocks.4.mlp.fc1.weight\n",
            "\t blocks.4.mlp.fc1.bias\n",
            "\t blocks.4.mlp.fc2.weight\n",
            "\t blocks.4.mlp.fc2.bias\n",
            "\t blocks.5.norm1.weight\n",
            "\t blocks.5.norm1.bias\n",
            "\t blocks.5.attn.qkv.weight\n",
            "\t blocks.5.attn.qkv.bias\n",
            "\t blocks.5.attn.proj.weight\n",
            "\t blocks.5.attn.proj.bias\n",
            "\t blocks.5.norm2.weight\n",
            "\t blocks.5.norm2.bias\n",
            "\t blocks.5.mlp.fc1.weight\n",
            "\t blocks.5.mlp.fc1.bias\n",
            "\t blocks.5.mlp.fc2.weight\n",
            "\t blocks.5.mlp.fc2.bias\n",
            "\t blocks.6.norm1.weight\n",
            "\t blocks.6.norm1.bias\n",
            "\t blocks.6.attn.qkv.weight\n",
            "\t blocks.6.attn.qkv.bias\n",
            "\t blocks.6.attn.proj.weight\n",
            "\t blocks.6.attn.proj.bias\n",
            "\t blocks.6.norm2.weight\n",
            "\t blocks.6.norm2.bias\n",
            "\t blocks.6.mlp.fc1.weight\n",
            "\t blocks.6.mlp.fc1.bias\n",
            "\t blocks.6.mlp.fc2.weight\n",
            "\t blocks.6.mlp.fc2.bias\n",
            "\t blocks.7.norm1.weight\n",
            "\t blocks.7.norm1.bias\n",
            "\t blocks.7.attn.qkv.weight\n",
            "\t blocks.7.attn.qkv.bias\n",
            "\t blocks.7.attn.proj.weight\n",
            "\t blocks.7.attn.proj.bias\n",
            "\t blocks.7.norm2.weight\n",
            "\t blocks.7.norm2.bias\n",
            "\t blocks.7.mlp.fc1.weight\n",
            "\t blocks.7.mlp.fc1.bias\n",
            "\t blocks.7.mlp.fc2.weight\n",
            "\t blocks.7.mlp.fc2.bias\n",
            "\t blocks.8.norm1.weight\n",
            "\t blocks.8.norm1.bias\n",
            "\t blocks.8.attn.qkv.weight\n",
            "\t blocks.8.attn.qkv.bias\n",
            "\t blocks.8.attn.proj.weight\n",
            "\t blocks.8.attn.proj.bias\n",
            "\t blocks.8.norm2.weight\n",
            "\t blocks.8.norm2.bias\n",
            "\t blocks.8.mlp.fc1.weight\n",
            "\t blocks.8.mlp.fc1.bias\n",
            "\t blocks.8.mlp.fc2.weight\n",
            "\t blocks.8.mlp.fc2.bias\n",
            "\t blocks.9.norm1.weight\n",
            "\t blocks.9.norm1.bias\n",
            "\t blocks.9.attn.qkv.weight\n",
            "\t blocks.9.attn.qkv.bias\n",
            "\t blocks.9.attn.proj.weight\n",
            "\t blocks.9.attn.proj.bias\n",
            "\t blocks.9.norm2.weight\n",
            "\t blocks.9.norm2.bias\n",
            "\t blocks.9.mlp.fc1.weight\n",
            "\t blocks.9.mlp.fc1.bias\n",
            "\t blocks.9.mlp.fc2.weight\n",
            "\t blocks.9.mlp.fc2.bias\n",
            "\t blocks.10.norm1.weight\n",
            "\t blocks.10.norm1.bias\n",
            "\t blocks.10.attn.qkv.weight\n",
            "\t blocks.10.attn.qkv.bias\n",
            "\t blocks.10.attn.proj.weight\n",
            "\t blocks.10.attn.proj.bias\n",
            "\t blocks.10.norm2.weight\n",
            "\t blocks.10.norm2.bias\n",
            "\t blocks.10.mlp.fc1.weight\n",
            "\t blocks.10.mlp.fc1.bias\n",
            "\t blocks.10.mlp.fc2.weight\n",
            "\t blocks.10.mlp.fc2.bias\n",
            "\t blocks.11.norm1.weight\n",
            "\t blocks.11.norm1.bias\n",
            "\t blocks.11.attn.qkv.weight\n",
            "\t blocks.11.attn.qkv.bias\n",
            "\t blocks.11.attn.proj.weight\n",
            "\t blocks.11.attn.proj.bias\n",
            "\t blocks.11.norm2.weight\n",
            "\t blocks.11.norm2.bias\n",
            "\t blocks.11.mlp.fc1.weight\n",
            "\t blocks.11.mlp.fc1.bias\n",
            "\t blocks.11.mlp.fc2.weight\n",
            "\t blocks.11.mlp.fc2.bias\n",
            "\t norm.weight\n",
            "\t norm.bias\n",
            "\t head.weight\n",
            "\t head.bias\n"
          ]
        }
      ],
      "source": [
        "from sam.sam import SAM\n",
        "# Detect if we have a GPU available\n",
        "device = torch.device(\"cuda:0\" if torch.cuda.is_available() else \"cpu\")\n",
        "print(device)\n",
        "# Send the model to GPU\n",
        "model = model.to(device)\n",
        "feature_extract=False\n",
        "\n",
        "# Gather the parameters to be optimized/updated in this run. If we are\n",
        "#  finetuning we will be updating all parameters. However, if we are\n",
        "#  doing feature extract method, we will only update the parameters\n",
        "#  that we have just initialized, i.e. the parameters with requires_grad\n",
        "#  is True.\n",
        "params_to_update = model.parameters()\n",
        "print(\"Params to learn:\")\n",
        "\n",
        "for name,param in model.named_parameters():\n",
        "    if param.requires_grad == True:\n",
        "          print(\"\\t\",name)\n",
        "\n",
        "# stochasic gradient descent\n",
        "lr_in = 0.01\n",
        "momentum_in = 0.9\n",
        "if optimizer_set == \"SGD\":\n",
        "  optimizer_ft = optim.SGD(params_to_update, lr=lr_in, momentum=momentum_in)\n",
        "else:\n",
        "  optimizer_base = optim.SGD # define an optimizer for the \"sharpness-aware\" update\n",
        "  optimizer_ft = SAM(params_to_update, optimizer_base, lr=lr_in, momentum=momentum_in)\n"
      ]
    },
    {
      "cell_type": "code",
      "source": [
        "optimizer_ft"
      ],
      "metadata": {
        "colab": {
          "base_uri": "https://localhost:8080/"
        },
        "id": "TxoRhdLgLgjd",
        "outputId": "0b2a695f-3d7d-4d63-89e3-3d29ac3191ce"
      },
      "execution_count": null,
      "outputs": [
        {
          "output_type": "execute_result",
          "data": {
            "text/plain": [
              "SAM (\n",
              "Parameter Group 0\n",
              "    adaptive: False\n",
              "    dampening: 0\n",
              "    lr: 0.01\n",
              "    maximize: False\n",
              "    momentum: 0.9\n",
              "    nesterov: False\n",
              "    rho: 0.05\n",
              "    weight_decay: 0\n",
              ")"
            ]
          },
          "metadata": {},
          "execution_count": 20
        }
      ]
    },
    {
      "cell_type": "code",
      "execution_count": null,
      "metadata": {
        "id": "76ScGC4bVS1m"
      },
      "outputs": [],
      "source": [
        "import warnings\n",
        "warnings.filterwarnings('ignore')\n",
        "\n",
        "# Setup the loss fxn\n",
        "criterion = nn.CrossEntropyLoss()\n",
        "num_epochs = 10\n",
        "\n",
        "# model general info\n",
        "name_model = \"vfer_sam_10\"\n",
        "base_dir = \"/content/drive/MyDrive/Models/\"\n",
        "\n",
        "def mkdir_model(base_dir, name_model, counter):\n",
        "  try:\n",
        "    d = \"{}/{}\".format(base_dir,name_model)\n",
        "    os.mkdir(d)\n",
        "  except FileExistsError:\n",
        "    counter += 1\n",
        "    mkdir_model(base_dir, str(name_model) + \"_\" + str(counter), counter)\n",
        "\n",
        "mkdir_model(base_dir, name_model, 0)\n",
        "\n",
        "# model files for saving history and model data\n",
        "model_folder = base_dir + name_model + \"/\"\n",
        "model_file = model_folder + name_model + \".pth\"\n",
        "train_history = model_folder + name_model + \"_\" + \"history_train\"\n",
        "val_history = model_folder + name_model + \"_\" + \"history_val\"\n",
        "\n",
        "\n",
        "# Learning Rate schedule: decays the learning rate by a factor of `gamma` \n",
        "# every `step_size` epochs\n",
        "scheduler = lr_scheduler.StepLR(optimizer_ft, step_size=10, gamma=0.1)"
      ]
    },
    {
      "cell_type": "code",
      "execution_count": null,
      "metadata": {
        "colab": {
          "base_uri": "https://localhost:8080/"
        },
        "id": "vSN5a2TqzHMc",
        "outputId": "e39ded26-333c-4e2b-ebf7-9655bfa819e5"
      },
      "outputs": [
        {
          "output_type": "stream",
          "name": "stdout",
          "text": [
            "Starting Training\n",
            "------------\n",
            "Epoch 1/10\n",
            "------------\n",
            "1/10 - train step : 24600/160020 - train_accuracy : 0.407114 - train_loss : 1.531723"
          ]
        }
      ],
      "source": [
        "# Train and evaluate\n",
        "model, train_hist, val_hist = train_model(model, dataloaders_dict, criterion, optimizer_ft,scheduler, num_epochs=num_epochs, \n",
        "                                          is_inception=False)\n",
        "#Saving the updated model for the inference phase\n",
        "torch.save(model.state_dict(), model_file)\n",
        "\n",
        "# Save histories data\n",
        "save_history(train_hist, train_history)\n",
        "save_history(val_hist, val_history)"
      ]
    },
    {
      "cell_type": "code",
      "execution_count": null,
      "metadata": {
        "id": "D5CdZlgJU8KM"
      },
      "outputs": [],
      "source": [
        "# model general info\n",
        "name_model = \"vfer_sam_20\"\n",
        "base_dir = \"/content/drive/MyDrive/Models/\"\n",
        "mkdir_model(base_dir, name_model, 0)\n",
        "\n",
        "# model files for saving history and model data\n",
        "model_folder = base_dir + name_model + \"/\"\n",
        "model_file = model_folder + name_model + \".pth\"\n",
        "train_history = model_folder + name_model + \"_\" + \"history_train\"\n",
        "val_history = model_folder + name_model + \"_\" + \"history_val\"\n",
        "\n",
        "# changing starting lr\n",
        "lr_in = 0.0001\n",
        "optimizer_ft = optim.SGD(model.parameters(), lr=lr_in, momentum=momentum_in)\n",
        "scheduler = lr_scheduler.StepLR(optimizer_ft, step_size=10, gamma=0.1)\n",
        "\n",
        "# Train and evaluate\n",
        "model, train_hist, val_hist = train_model(model, dataloaders_dict, criterion, optimizer_ft,scheduler, num_epochs=num_epochs, \n",
        "                                          is_inception=False, is_loaded=True, model_folder= model_folder,\n",
        "                                          load_state_ws=\"/content/drive/MyDrive/Models/vfer_sam_10/vfer_sam_10.pth\" )\n",
        "\n",
        "\n",
        "#Saving the updated model for the inference phase\n",
        "torch.save(model.state_dict(), model_file)\n",
        "\n",
        "# Save histories data\n",
        "save_history(train_hist, train_history)\n",
        "save_history(val_hist, val_history)"
      ]
    },
    {
      "cell_type": "code",
      "execution_count": null,
      "metadata": {
        "id": "2n9U0b9mnc7q"
      },
      "outputs": [],
      "source": [
        "# model general info\n",
        "name_model = \"vfer_sam_25\"\n",
        "base_dir = \"/content/drive/MyDrive/Models/\"\n",
        "mkdir_model(base_dir, name_model, 0)\n",
        "\n",
        "# model files for saving history and model data\n",
        "model_folder = base_dir + name_model + \"/\"\n",
        "model_file = model_folder + name_model + \".pth\"\n",
        "train_history = model_folder + name_model + \"_\" + \"history_train\"\n",
        "val_history = model_folder + name_model + \"_\" + \"history_val\"\n",
        "\n",
        "# updating num_epochs\n",
        "num_epochs = 5\n",
        "# changing starting lr\n",
        "lr_in = 0.001\n",
        "optimizer_ft = optim.SGD(model.parameters(), lr=lr_in, momentum=momentum_in)\n",
        "scheduler = lr_scheduler.StepLR(optimizer_ft, step_size=10, gamma=0.1)\n",
        "\n",
        "# Train and evaluate\n",
        "model, train_hist, val_hist = train_model(model, dataloaders_dict, criterion, optimizer_ft,scheduler, num_epochs=num_epochs, \n",
        "                                          is_inception=False, is_loaded=True, model_folder= model_folder,\n",
        "                                          load_state_ws=\"/content/drive/MyDrive/Models/vfer_sam_20/vfer_sam_20.pth\" )\n",
        "\n",
        "\n",
        "#Saving the updated model for the inference phase\n",
        "torch.save(model.state_dict(), model_file)\n",
        "\n",
        "# Save histories data\n",
        "save_history(train_hist, train_history)\n",
        "save_history(val_hist, val_history)"
      ]
    },
    {
      "cell_type": "markdown",
      "metadata": {
        "id": "Yrza5UhRTQvn"
      },
      "source": [
        "## 7. Evaluation"
      ]
    },
    {
      "cell_type": "markdown",
      "metadata": {
        "id": "aluDpJA1nw1s"
      },
      "source": [
        "\\In this section, we will evaluate the performances of our models based on the accuracy and loss values on the training and validation set with some histograms for the progress analysis during the training phase. "
      ]
    },
    {
      "cell_type": "code",
      "execution_count": null,
      "metadata": {
        "id": "7cHhjlB665Yq"
      },
      "outputs": [],
      "source": [
        "# plot and data management functions\n",
        "\n",
        "def plot_graphs(train, val, metric):\n",
        "    plt.plot(train)\n",
        "    plt.plot(val, '')\n",
        "    plt.xlabel(\"Epochs\")\n",
        "    plt.ylabel(metric)\n",
        "    plt.legend([metric, 'val_'+metric])\n",
        "\n",
        "def tensor_to_list(tensor_list):\n",
        "  l = []\n",
        "  for el in tensor_list:\n",
        "    l.append(el.item())\n",
        "  return l"
      ]
    },
    {
      "cell_type": "code",
      "execution_count": null,
      "metadata": {
        "id": "lb7wirVwkZxe"
      },
      "outputs": [],
      "source": [
        "# load history divided by steps\n",
        "steps = [10,20,25]\n",
        "base_dir = \"/content/drive/MyDrive/Models/\"\n",
        "train_accuracy = []\n",
        "val_accuracy = []\n",
        "train_loss = []\n",
        "val_loss = []\n",
        "for step in steps:\n",
        "  name_model = \"vfer_grad_\" + str(step)\n",
        "  model_folder = base_dir + name_model + \"/\"\n",
        "  train_accuracy += tensor_to_list(load_history(model_folder + name_model + \"_history_train\"))\n",
        "  val_accuracy += tensor_to_list(load_history(model_folder + name_model + \"_history_val\"))\n",
        "  step_loss = load_history(base_dir + name_model + \"/\" + name_model + \"_history_loss\")\n",
        "  train_loss += step_loss['train']\n",
        "  val_loss += step_loss['val']"
      ]
    },
    {
      "cell_type": "code",
      "execution_count": null,
      "metadata": {
        "id": "YQH077KAmIaa"
      },
      "outputs": [],
      "source": [
        "# we need to merge them together\n",
        "for i in range(len(train_accuracy)):\n",
        "  train_accuracy[i] = round(train_accuracy[i], 2)\n",
        "  val_accuracy[i] = round(val_accuracy[i], 2)\n",
        "  val_loss[i] = round(val_loss[i], 2)\n",
        "  train_loss[i] = round(train_loss[i], 2)"
      ]
    },
    {
      "cell_type": "code",
      "execution_count": null,
      "metadata": {
        "id": "yyODLhDeWI5K"
      },
      "outputs": [],
      "source": [
        "# accuracy plot\n",
        "plt.figure(figsize=(16,5))\n",
        "plt.subplot(1, 2, 1)\n",
        "plot_graphs(train_accuracy, val_accuracy, 'accuracy')\n",
        "plt.ylim(0, 1)"
      ]
    },
    {
      "cell_type": "code",
      "execution_count": null,
      "metadata": {
        "id": "096oMIYnWSMo"
      },
      "outputs": [],
      "source": [
        "# loss plot\n",
        "plt.figure(figsize=(16, 5))\n",
        "plt.subplot(1, 2, 1)\n",
        "plot_graphs(train_loss, val_loss, 'loss')\n",
        "plt.ylim(0, None)"
      ]
    },
    {
      "cell_type": "code",
      "execution_count": null,
      "metadata": {
        "id": "vAZuAk2cenyt"
      },
      "outputs": [],
      "source": [
        "data_transforms_test = {\n",
        "    'test': transforms.Compose([\n",
        "        transforms.Resize(input_size),\n",
        "        transforms.ToTensor(),\n",
        "        transforms.Normalize([0.5, 0.5, 0.5], [0.5, 0.5, 0.5])\n",
        "    ]),\n",
        "}\n",
        "\n",
        "# Create training and validation datasets\n",
        "image_datasets_test = {x: datasets.ImageFolder(os.path.join(data_dir, x), data_transforms_test[x]) for x in ['test']}\n",
        "\n",
        "# Create training and validation dataloaders\n",
        "dataloaders_dict_test = {x: torch.utils.data.DataLoader(image_datasets_test[x], batch_size=batch_size, shuffle=False, num_workers=2,pin_memory=True) for x in [ 'test']}"
      ]
    },
    {
      "cell_type": "code",
      "execution_count": null,
      "metadata": {
        "id": "edm2Q7iDWCv3"
      },
      "outputs": [],
      "source": [
        "def test_model(model, dataloaders,   \n",
        "                is_loaded = False, load_state_ws=None,\n",
        "                  model_folder=\"\"):\n",
        "    final_scores = []\n",
        "    overall_labels = []\n",
        "    if is_loaded and load_state_ws != None:\n",
        "      # load the model\n",
        "      state_dict = torch.load(load_state_ws)\n",
        "      model.load_state_dict(state_dict)\n",
        "      model.eval()\n",
        "      print('Model loaded correctly')\n",
        "      print(\"Testing phase start...\")\n",
        "      total = len(dataloaders['test'])\n",
        "      model = model.eval()   # Set model to evaluate mode\n",
        "      dl = dataloaders['test']\n",
        "      totalIm=0\n",
        "      # Iterate over data.\n",
        "      for inputs, labels in dl:\n",
        "          totalIm+=len(inputs)\n",
        "          inputs = inputs.to(device)\n",
        "          labels = labels.to(device)\n",
        "          # forward\n",
        "          # track history if only in train\n",
        "          with torch.set_grad_enabled(False):\n",
        "              scores = model(inputs)\n",
        "              #c oncatenating final scores and label list\n",
        "              final_scores=[*final_scores,*scores.tolist()]\n",
        "              overall_labels=[*overall_labels,*labels.tolist()]\n",
        "\n",
        "\n",
        "\n",
        "    return final_scores,overall_labels"
      ]
    },
    {
      "cell_type": "code",
      "execution_count": null,
      "metadata": {
        "colab": {
          "base_uri": "https://localhost:8080/"
        },
        "id": "NUzW-2wTZ-D2",
        "outputId": "b43557b4-561d-4009-cf7a-71d5a03502ad"
      },
      "outputs": [
        {
          "name": "stdout",
          "output_type": "stream",
          "text": [
            "cuda:0\n",
            "Model loaded correctly\n",
            "Testing phase\n"
          ]
        }
      ],
      "source": [
        "from sklearn.metrics import confusion_matrix, ConfusionMatrixDisplay\n",
        "#setting the path of the model to be imported\n",
        "model_path='/content/drive/MyDrive/Models/vfer_grad_25/vfer_grad_25.pth'\n",
        "\n",
        "device = torch.device(\"cuda:0\" if torch.cuda.is_available() else \"cpu\")\n",
        "print(device)\n",
        "# Send the model to GPU\n",
        "model = model.to(device)\n",
        "scores,labels = test_model(model, dataloaders_dict_test, True, load_state_ws=model_path) "
      ]
    }
  ],
  "metadata": {
    "accelerator": "GPU",
    "colab": {
      "collapsed_sections": [
        "A4NdJRd3L0dY"
      ],
      "machine_shape": "hm",
      "name": "ViT_Face_Emotion_Recognition.ipynb",
      "provenance": []
    },
    "kernelspec": {
      "display_name": "Python 3",
      "name": "python3"
    },
    "language_info": {
      "name": "python"
    }
  },
  "nbformat": 4,
  "nbformat_minor": 0
}